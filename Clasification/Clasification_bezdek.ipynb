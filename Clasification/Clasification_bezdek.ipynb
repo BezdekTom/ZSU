{
 "cells": [
  {
   "cell_type": "markdown",
   "source": [],
   "metadata": {
    "collapsed": false
   }
  },
  {
   "cell_type": "markdown",
   "source": [
    "## Description\n",
    "\n",
    " This dataset consists of 10,000 customers mentioning their age, salary, marital_status, credit card limit, credit card category, etc. There are nearly 18 features.\n",
    "\n",
    "Our goal is to predict Attrition_Flag.\n",
    "\n",
    "#### Following is the Data Dictionary for Credit Card dataset:\n",
    "\n",
    "- Client - number - Unique identifier for the customer holding the account\n",
    "\n",
    "- Attrition_FlagInternal - event (customer activity) variable - if the account is closed then 1 else 0\n",
    "\n",
    "- Customer_AgeDemographic - variable - Customer's Age in Years\n",
    "\n",
    "- GenderDemographic - variable - M=Male, F=Female\n",
    "\n",
    "- Dependent_count - Demographic variable - Number of dependents\n",
    "\n",
    "- Education_Level - Demographic variable - Educational Qualification of the account holder (example: high school, college graduate, etc.)\n",
    "\n",
    "- Marital_Status - Demographic variable - Married, Single, Divorced, Unknown\n",
    "\n",
    "- Income_Category - Demographic variable - Annual Income Category of the account holder (< $40K, $40K - 60K, $60K - $80K, $80K-$120K, > $120K, Unknown)\n",
    "\n",
    "- Card_Category - Product Variable - Type of Card (Blue, Silver, Gold, Platinum)\n",
    "\n",
    "- Monthsonbook - Period of relationship with bank\n",
    "\n",
    "- TotalRelationshipCount - Total no. of products held by the customer\n",
    "\n",
    "- MonthsInactive12_mon - No. of months inactive in the last 12 months\n",
    "\n",
    "- ContactsCount12_mon - No. of Contacts in the last 12 months\n",
    "\n",
    "- Credit_Limit - Credit Limit on the Credit Card\n",
    "\n",
    "- TotalRevolvingBal - Total Revolving Balance on the Credit Card\n",
    "\n",
    "- AvgOpenTo_Buy - Open to Buy Credit Line (Average of last 12 months)\n",
    "\n",
    "- TotalAmtChngQ4Q1 - Change in Transaction Amount (Q4 over Q1)\n",
    "\n",
    "- TotalTransAmt - Total Transaction Amount (Last 12 months)\n",
    "\n",
    "- TotalTransCt - Total Transaction Count (Last 12 months)\n",
    "\n",
    "- TotalCtChngQ4Q1 - Change in Transaction Count (Q4 over Q1)\n",
    "\n",
    "- AvgUtilizationRatio - Average Card Utilization Ratio\n",
    "\n",
    "- NaiveBayesClassifierAttritionFlagCardCategoryContactsCount12monDependentcountEducationLevelMonthsInactive12mon_1 - Naive Bayes - Should be dropped\n",
    "\n",
    "- NaiveBayesClassifierAttritionFlagCardCategoryContactsCount12monDependentcountEducationLevelMonthsInactive12mon_2 - Naive Bayes - Should be dropped"
   ],
   "metadata": {
    "collapsed": false
   }
  },
  {
   "cell_type": "code",
   "execution_count": 2,
   "outputs": [],
   "source": [
    "import numpy as np\n",
    "import pandas as pd\n",
    "from sklearn.preprocessing import OrdinalEncoder, MinMaxScaler\n",
    "from sklearn.model_selection import StratifiedKFold, train_test_split\n",
    "from sklearn.tree import DecisionTreeClassifier\n",
    "from sklearn.neighbors import KNeighborsClassifier\n",
    "from sklearn.neural_network import MLPClassifier\n",
    "from sklearn.metrics import accuracy_score, confusion_matrix\n",
    "import matplotlib.pyplot as plt\n",
    "import seaborn as sns"
   ],
   "metadata": {
    "collapsed": false
   }
  },
  {
   "cell_type": "code",
   "execution_count": 3,
   "outputs": [
    {
     "data": {
      "text/plain": "       CLIENTNUM     Attrition_Flag  Customer_Age Gender  Dependent_count  \\\n0      768805383  Existing Customer            45      M                3   \n1      818770008  Existing Customer            49      F                5   \n2      713982108  Existing Customer            51      M                3   \n3      769911858  Existing Customer            40      F                4   \n4      709106358  Existing Customer            40      M                3   \n...          ...                ...           ...    ...              ...   \n10122  772366833  Existing Customer            50      M                2   \n10123  710638233  Attrited Customer            41      M                2   \n10124  716506083  Attrited Customer            44      F                1   \n10125  717406983  Attrited Customer            30      M                2   \n10126  714337233  Attrited Customer            43      F                2   \n\n      Education_Level Marital_Status Income_Category Card_Category  \\\n0         High School        Married     $60K - $80K          Blue   \n1            Graduate         Single  Less than $40K          Blue   \n2            Graduate        Married    $80K - $120K          Blue   \n3         High School        Unknown  Less than $40K          Blue   \n4          Uneducated        Married     $60K - $80K          Blue   \n...               ...            ...             ...           ...   \n10122        Graduate         Single     $40K - $60K          Blue   \n10123         Unknown       Divorced     $40K - $60K          Blue   \n10124     High School        Married  Less than $40K          Blue   \n10125        Graduate        Unknown     $40K - $60K          Blue   \n10126        Graduate        Married  Less than $40K        Silver   \n\n       Months_on_book  ...  Credit_Limit  Total_Revolving_Bal  \\\n0                  39  ...       12691.0                  777   \n1                  44  ...        8256.0                  864   \n2                  36  ...        3418.0                    0   \n3                  34  ...        3313.0                 2517   \n4                  21  ...        4716.0                    0   \n...               ...  ...           ...                  ...   \n10122              40  ...        4003.0                 1851   \n10123              25  ...        4277.0                 2186   \n10124              36  ...        5409.0                    0   \n10125              36  ...        5281.0                    0   \n10126              25  ...       10388.0                 1961   \n\n       Avg_Open_To_Buy  Total_Amt_Chng_Q4_Q1  Total_Trans_Amt  Total_Trans_Ct  \\\n0              11914.0                 1.335             1144              42   \n1               7392.0                 1.541             1291              33   \n2               3418.0                 2.594             1887              20   \n3                796.0                 1.405             1171              20   \n4               4716.0                 2.175              816              28   \n...                ...                   ...              ...             ...   \n10122           2152.0                 0.703            15476             117   \n10123           2091.0                 0.804             8764              69   \n10124           5409.0                 0.819            10291              60   \n10125           5281.0                 0.535             8395              62   \n10126           8427.0                 0.703            10294              61   \n\n       Total_Ct_Chng_Q4_Q1  Avg_Utilization_Ratio  \\\n0                    1.625                  0.061   \n1                    3.714                  0.105   \n2                    2.333                  0.000   \n3                    2.333                  0.760   \n4                    2.500                  0.000   \n...                    ...                    ...   \n10122                0.857                  0.462   \n10123                0.683                  0.511   \n10124                0.818                  0.000   \n10125                0.722                  0.000   \n10126                0.649                  0.189   \n\n       Naive_Bayes_Classifier_Attrition_Flag_Card_Category_Contacts_Count_12_mon_Dependent_count_Education_Level_Months_Inactive_12_mon_1  \\\n0                                               0.000093                                                                                    \n1                                               0.000057                                                                                    \n2                                               0.000021                                                                                    \n3                                               0.000134                                                                                    \n4                                               0.000022                                                                                    \n...                                                  ...                                                                                    \n10122                                           0.000191                                                                                    \n10123                                           0.995270                                                                                    \n10124                                           0.997880                                                                                    \n10125                                           0.996710                                                                                    \n10126                                           0.996620                                                                                    \n\n       Naive_Bayes_Classifier_Attrition_Flag_Card_Category_Contacts_Count_12_mon_Dependent_count_Education_Level_Months_Inactive_12_mon_2  \n0                                               0.999910                                                                                   \n1                                               0.999940                                                                                   \n2                                               0.999980                                                                                   \n3                                               0.999870                                                                                   \n4                                               0.999980                                                                                   \n...                                                  ...                                                                                   \n10122                                           0.999810                                                                                   \n10123                                           0.004729                                                                                   \n10124                                           0.002118                                                                                   \n10125                                           0.003294                                                                                   \n10126                                           0.003377                                                                                   \n\n[10127 rows x 23 columns]",
      "text/html": "<div>\n<style scoped>\n    .dataframe tbody tr th:only-of-type {\n        vertical-align: middle;\n    }\n\n    .dataframe tbody tr th {\n        vertical-align: top;\n    }\n\n    .dataframe thead th {\n        text-align: right;\n    }\n</style>\n<table border=\"1\" class=\"dataframe\">\n  <thead>\n    <tr style=\"text-align: right;\">\n      <th></th>\n      <th>CLIENTNUM</th>\n      <th>Attrition_Flag</th>\n      <th>Customer_Age</th>\n      <th>Gender</th>\n      <th>Dependent_count</th>\n      <th>Education_Level</th>\n      <th>Marital_Status</th>\n      <th>Income_Category</th>\n      <th>Card_Category</th>\n      <th>Months_on_book</th>\n      <th>...</th>\n      <th>Credit_Limit</th>\n      <th>Total_Revolving_Bal</th>\n      <th>Avg_Open_To_Buy</th>\n      <th>Total_Amt_Chng_Q4_Q1</th>\n      <th>Total_Trans_Amt</th>\n      <th>Total_Trans_Ct</th>\n      <th>Total_Ct_Chng_Q4_Q1</th>\n      <th>Avg_Utilization_Ratio</th>\n      <th>Naive_Bayes_Classifier_Attrition_Flag_Card_Category_Contacts_Count_12_mon_Dependent_count_Education_Level_Months_Inactive_12_mon_1</th>\n      <th>Naive_Bayes_Classifier_Attrition_Flag_Card_Category_Contacts_Count_12_mon_Dependent_count_Education_Level_Months_Inactive_12_mon_2</th>\n    </tr>\n  </thead>\n  <tbody>\n    <tr>\n      <th>0</th>\n      <td>768805383</td>\n      <td>Existing Customer</td>\n      <td>45</td>\n      <td>M</td>\n      <td>3</td>\n      <td>High School</td>\n      <td>Married</td>\n      <td>$60K - $80K</td>\n      <td>Blue</td>\n      <td>39</td>\n      <td>...</td>\n      <td>12691.0</td>\n      <td>777</td>\n      <td>11914.0</td>\n      <td>1.335</td>\n      <td>1144</td>\n      <td>42</td>\n      <td>1.625</td>\n      <td>0.061</td>\n      <td>0.000093</td>\n      <td>0.999910</td>\n    </tr>\n    <tr>\n      <th>1</th>\n      <td>818770008</td>\n      <td>Existing Customer</td>\n      <td>49</td>\n      <td>F</td>\n      <td>5</td>\n      <td>Graduate</td>\n      <td>Single</td>\n      <td>Less than $40K</td>\n      <td>Blue</td>\n      <td>44</td>\n      <td>...</td>\n      <td>8256.0</td>\n      <td>864</td>\n      <td>7392.0</td>\n      <td>1.541</td>\n      <td>1291</td>\n      <td>33</td>\n      <td>3.714</td>\n      <td>0.105</td>\n      <td>0.000057</td>\n      <td>0.999940</td>\n    </tr>\n    <tr>\n      <th>2</th>\n      <td>713982108</td>\n      <td>Existing Customer</td>\n      <td>51</td>\n      <td>M</td>\n      <td>3</td>\n      <td>Graduate</td>\n      <td>Married</td>\n      <td>$80K - $120K</td>\n      <td>Blue</td>\n      <td>36</td>\n      <td>...</td>\n      <td>3418.0</td>\n      <td>0</td>\n      <td>3418.0</td>\n      <td>2.594</td>\n      <td>1887</td>\n      <td>20</td>\n      <td>2.333</td>\n      <td>0.000</td>\n      <td>0.000021</td>\n      <td>0.999980</td>\n    </tr>\n    <tr>\n      <th>3</th>\n      <td>769911858</td>\n      <td>Existing Customer</td>\n      <td>40</td>\n      <td>F</td>\n      <td>4</td>\n      <td>High School</td>\n      <td>Unknown</td>\n      <td>Less than $40K</td>\n      <td>Blue</td>\n      <td>34</td>\n      <td>...</td>\n      <td>3313.0</td>\n      <td>2517</td>\n      <td>796.0</td>\n      <td>1.405</td>\n      <td>1171</td>\n      <td>20</td>\n      <td>2.333</td>\n      <td>0.760</td>\n      <td>0.000134</td>\n      <td>0.999870</td>\n    </tr>\n    <tr>\n      <th>4</th>\n      <td>709106358</td>\n      <td>Existing Customer</td>\n      <td>40</td>\n      <td>M</td>\n      <td>3</td>\n      <td>Uneducated</td>\n      <td>Married</td>\n      <td>$60K - $80K</td>\n      <td>Blue</td>\n      <td>21</td>\n      <td>...</td>\n      <td>4716.0</td>\n      <td>0</td>\n      <td>4716.0</td>\n      <td>2.175</td>\n      <td>816</td>\n      <td>28</td>\n      <td>2.500</td>\n      <td>0.000</td>\n      <td>0.000022</td>\n      <td>0.999980</td>\n    </tr>\n    <tr>\n      <th>...</th>\n      <td>...</td>\n      <td>...</td>\n      <td>...</td>\n      <td>...</td>\n      <td>...</td>\n      <td>...</td>\n      <td>...</td>\n      <td>...</td>\n      <td>...</td>\n      <td>...</td>\n      <td>...</td>\n      <td>...</td>\n      <td>...</td>\n      <td>...</td>\n      <td>...</td>\n      <td>...</td>\n      <td>...</td>\n      <td>...</td>\n      <td>...</td>\n      <td>...</td>\n      <td>...</td>\n    </tr>\n    <tr>\n      <th>10122</th>\n      <td>772366833</td>\n      <td>Existing Customer</td>\n      <td>50</td>\n      <td>M</td>\n      <td>2</td>\n      <td>Graduate</td>\n      <td>Single</td>\n      <td>$40K - $60K</td>\n      <td>Blue</td>\n      <td>40</td>\n      <td>...</td>\n      <td>4003.0</td>\n      <td>1851</td>\n      <td>2152.0</td>\n      <td>0.703</td>\n      <td>15476</td>\n      <td>117</td>\n      <td>0.857</td>\n      <td>0.462</td>\n      <td>0.000191</td>\n      <td>0.999810</td>\n    </tr>\n    <tr>\n      <th>10123</th>\n      <td>710638233</td>\n      <td>Attrited Customer</td>\n      <td>41</td>\n      <td>M</td>\n      <td>2</td>\n      <td>Unknown</td>\n      <td>Divorced</td>\n      <td>$40K - $60K</td>\n      <td>Blue</td>\n      <td>25</td>\n      <td>...</td>\n      <td>4277.0</td>\n      <td>2186</td>\n      <td>2091.0</td>\n      <td>0.804</td>\n      <td>8764</td>\n      <td>69</td>\n      <td>0.683</td>\n      <td>0.511</td>\n      <td>0.995270</td>\n      <td>0.004729</td>\n    </tr>\n    <tr>\n      <th>10124</th>\n      <td>716506083</td>\n      <td>Attrited Customer</td>\n      <td>44</td>\n      <td>F</td>\n      <td>1</td>\n      <td>High School</td>\n      <td>Married</td>\n      <td>Less than $40K</td>\n      <td>Blue</td>\n      <td>36</td>\n      <td>...</td>\n      <td>5409.0</td>\n      <td>0</td>\n      <td>5409.0</td>\n      <td>0.819</td>\n      <td>10291</td>\n      <td>60</td>\n      <td>0.818</td>\n      <td>0.000</td>\n      <td>0.997880</td>\n      <td>0.002118</td>\n    </tr>\n    <tr>\n      <th>10125</th>\n      <td>717406983</td>\n      <td>Attrited Customer</td>\n      <td>30</td>\n      <td>M</td>\n      <td>2</td>\n      <td>Graduate</td>\n      <td>Unknown</td>\n      <td>$40K - $60K</td>\n      <td>Blue</td>\n      <td>36</td>\n      <td>...</td>\n      <td>5281.0</td>\n      <td>0</td>\n      <td>5281.0</td>\n      <td>0.535</td>\n      <td>8395</td>\n      <td>62</td>\n      <td>0.722</td>\n      <td>0.000</td>\n      <td>0.996710</td>\n      <td>0.003294</td>\n    </tr>\n    <tr>\n      <th>10126</th>\n      <td>714337233</td>\n      <td>Attrited Customer</td>\n      <td>43</td>\n      <td>F</td>\n      <td>2</td>\n      <td>Graduate</td>\n      <td>Married</td>\n      <td>Less than $40K</td>\n      <td>Silver</td>\n      <td>25</td>\n      <td>...</td>\n      <td>10388.0</td>\n      <td>1961</td>\n      <td>8427.0</td>\n      <td>0.703</td>\n      <td>10294</td>\n      <td>61</td>\n      <td>0.649</td>\n      <td>0.189</td>\n      <td>0.996620</td>\n      <td>0.003377</td>\n    </tr>\n  </tbody>\n</table>\n<p>10127 rows × 23 columns</p>\n</div>"
     },
     "execution_count": 3,
     "metadata": {},
     "output_type": "execute_result"
    }
   ],
   "source": [
    "df = pd.read_csv('BankChurners.csv', sep=',')\n",
    "df"
   ],
   "metadata": {
    "collapsed": false
   }
  },
  {
   "cell_type": "code",
   "execution_count": 4,
   "outputs": [
    {
     "data": {
      "text/plain": "       CLIENTNUM     Attrition_Flag  Customer_Age Gender  Dependent_count  \\\n0      768805383  Existing Customer            45      M                3   \n1      818770008  Existing Customer            49      F                5   \n2      713982108  Existing Customer            51      M                3   \n3      769911858  Existing Customer            40      F                4   \n4      709106358  Existing Customer            40      M                3   \n...          ...                ...           ...    ...              ...   \n10122  772366833  Existing Customer            50      M                2   \n10123  710638233  Attrited Customer            41      M                2   \n10124  716506083  Attrited Customer            44      F                1   \n10125  717406983  Attrited Customer            30      M                2   \n10126  714337233  Attrited Customer            43      F                2   \n\n      Education_Level Marital_Status Income_Category Card_Category  \\\n0         High School        Married     $60K - $80K          Blue   \n1            Graduate         Single  Less than $40K          Blue   \n2            Graduate        Married    $80K - $120K          Blue   \n3         High School        Unknown  Less than $40K          Blue   \n4          Uneducated        Married     $60K - $80K          Blue   \n...               ...            ...             ...           ...   \n10122        Graduate         Single     $40K - $60K          Blue   \n10123         Unknown       Divorced     $40K - $60K          Blue   \n10124     High School        Married  Less than $40K          Blue   \n10125        Graduate        Unknown     $40K - $60K          Blue   \n10126        Graduate        Married  Less than $40K        Silver   \n\n       Months_on_book  ...  Months_Inactive_12_mon  Contacts_Count_12_mon  \\\n0                  39  ...                       1                      3   \n1                  44  ...                       1                      2   \n2                  36  ...                       1                      0   \n3                  34  ...                       4                      1   \n4                  21  ...                       1                      0   \n...               ...  ...                     ...                    ...   \n10122              40  ...                       2                      3   \n10123              25  ...                       2                      3   \n10124              36  ...                       3                      4   \n10125              36  ...                       3                      3   \n10126              25  ...                       2                      4   \n\n       Credit_Limit  Total_Revolving_Bal  Avg_Open_To_Buy  \\\n0           12691.0                  777          11914.0   \n1            8256.0                  864           7392.0   \n2            3418.0                    0           3418.0   \n3            3313.0                 2517            796.0   \n4            4716.0                    0           4716.0   \n...             ...                  ...              ...   \n10122        4003.0                 1851           2152.0   \n10123        4277.0                 2186           2091.0   \n10124        5409.0                    0           5409.0   \n10125        5281.0                    0           5281.0   \n10126       10388.0                 1961           8427.0   \n\n       Total_Amt_Chng_Q4_Q1  Total_Trans_Amt  Total_Trans_Ct  \\\n0                     1.335             1144              42   \n1                     1.541             1291              33   \n2                     2.594             1887              20   \n3                     1.405             1171              20   \n4                     2.175              816              28   \n...                     ...              ...             ...   \n10122                 0.703            15476             117   \n10123                 0.804             8764              69   \n10124                 0.819            10291              60   \n10125                 0.535             8395              62   \n10126                 0.703            10294              61   \n\n       Total_Ct_Chng_Q4_Q1  Avg_Utilization_Ratio  \n0                    1.625                  0.061  \n1                    3.714                  0.105  \n2                    2.333                  0.000  \n3                    2.333                  0.760  \n4                    2.500                  0.000  \n...                    ...                    ...  \n10122                0.857                  0.462  \n10123                0.683                  0.511  \n10124                0.818                  0.000  \n10125                0.722                  0.000  \n10126                0.649                  0.189  \n\n[10127 rows x 21 columns]",
      "text/html": "<div>\n<style scoped>\n    .dataframe tbody tr th:only-of-type {\n        vertical-align: middle;\n    }\n\n    .dataframe tbody tr th {\n        vertical-align: top;\n    }\n\n    .dataframe thead th {\n        text-align: right;\n    }\n</style>\n<table border=\"1\" class=\"dataframe\">\n  <thead>\n    <tr style=\"text-align: right;\">\n      <th></th>\n      <th>CLIENTNUM</th>\n      <th>Attrition_Flag</th>\n      <th>Customer_Age</th>\n      <th>Gender</th>\n      <th>Dependent_count</th>\n      <th>Education_Level</th>\n      <th>Marital_Status</th>\n      <th>Income_Category</th>\n      <th>Card_Category</th>\n      <th>Months_on_book</th>\n      <th>...</th>\n      <th>Months_Inactive_12_mon</th>\n      <th>Contacts_Count_12_mon</th>\n      <th>Credit_Limit</th>\n      <th>Total_Revolving_Bal</th>\n      <th>Avg_Open_To_Buy</th>\n      <th>Total_Amt_Chng_Q4_Q1</th>\n      <th>Total_Trans_Amt</th>\n      <th>Total_Trans_Ct</th>\n      <th>Total_Ct_Chng_Q4_Q1</th>\n      <th>Avg_Utilization_Ratio</th>\n    </tr>\n  </thead>\n  <tbody>\n    <tr>\n      <th>0</th>\n      <td>768805383</td>\n      <td>Existing Customer</td>\n      <td>45</td>\n      <td>M</td>\n      <td>3</td>\n      <td>High School</td>\n      <td>Married</td>\n      <td>$60K - $80K</td>\n      <td>Blue</td>\n      <td>39</td>\n      <td>...</td>\n      <td>1</td>\n      <td>3</td>\n      <td>12691.0</td>\n      <td>777</td>\n      <td>11914.0</td>\n      <td>1.335</td>\n      <td>1144</td>\n      <td>42</td>\n      <td>1.625</td>\n      <td>0.061</td>\n    </tr>\n    <tr>\n      <th>1</th>\n      <td>818770008</td>\n      <td>Existing Customer</td>\n      <td>49</td>\n      <td>F</td>\n      <td>5</td>\n      <td>Graduate</td>\n      <td>Single</td>\n      <td>Less than $40K</td>\n      <td>Blue</td>\n      <td>44</td>\n      <td>...</td>\n      <td>1</td>\n      <td>2</td>\n      <td>8256.0</td>\n      <td>864</td>\n      <td>7392.0</td>\n      <td>1.541</td>\n      <td>1291</td>\n      <td>33</td>\n      <td>3.714</td>\n      <td>0.105</td>\n    </tr>\n    <tr>\n      <th>2</th>\n      <td>713982108</td>\n      <td>Existing Customer</td>\n      <td>51</td>\n      <td>M</td>\n      <td>3</td>\n      <td>Graduate</td>\n      <td>Married</td>\n      <td>$80K - $120K</td>\n      <td>Blue</td>\n      <td>36</td>\n      <td>...</td>\n      <td>1</td>\n      <td>0</td>\n      <td>3418.0</td>\n      <td>0</td>\n      <td>3418.0</td>\n      <td>2.594</td>\n      <td>1887</td>\n      <td>20</td>\n      <td>2.333</td>\n      <td>0.000</td>\n    </tr>\n    <tr>\n      <th>3</th>\n      <td>769911858</td>\n      <td>Existing Customer</td>\n      <td>40</td>\n      <td>F</td>\n      <td>4</td>\n      <td>High School</td>\n      <td>Unknown</td>\n      <td>Less than $40K</td>\n      <td>Blue</td>\n      <td>34</td>\n      <td>...</td>\n      <td>4</td>\n      <td>1</td>\n      <td>3313.0</td>\n      <td>2517</td>\n      <td>796.0</td>\n      <td>1.405</td>\n      <td>1171</td>\n      <td>20</td>\n      <td>2.333</td>\n      <td>0.760</td>\n    </tr>\n    <tr>\n      <th>4</th>\n      <td>709106358</td>\n      <td>Existing Customer</td>\n      <td>40</td>\n      <td>M</td>\n      <td>3</td>\n      <td>Uneducated</td>\n      <td>Married</td>\n      <td>$60K - $80K</td>\n      <td>Blue</td>\n      <td>21</td>\n      <td>...</td>\n      <td>1</td>\n      <td>0</td>\n      <td>4716.0</td>\n      <td>0</td>\n      <td>4716.0</td>\n      <td>2.175</td>\n      <td>816</td>\n      <td>28</td>\n      <td>2.500</td>\n      <td>0.000</td>\n    </tr>\n    <tr>\n      <th>...</th>\n      <td>...</td>\n      <td>...</td>\n      <td>...</td>\n      <td>...</td>\n      <td>...</td>\n      <td>...</td>\n      <td>...</td>\n      <td>...</td>\n      <td>...</td>\n      <td>...</td>\n      <td>...</td>\n      <td>...</td>\n      <td>...</td>\n      <td>...</td>\n      <td>...</td>\n      <td>...</td>\n      <td>...</td>\n      <td>...</td>\n      <td>...</td>\n      <td>...</td>\n      <td>...</td>\n    </tr>\n    <tr>\n      <th>10122</th>\n      <td>772366833</td>\n      <td>Existing Customer</td>\n      <td>50</td>\n      <td>M</td>\n      <td>2</td>\n      <td>Graduate</td>\n      <td>Single</td>\n      <td>$40K - $60K</td>\n      <td>Blue</td>\n      <td>40</td>\n      <td>...</td>\n      <td>2</td>\n      <td>3</td>\n      <td>4003.0</td>\n      <td>1851</td>\n      <td>2152.0</td>\n      <td>0.703</td>\n      <td>15476</td>\n      <td>117</td>\n      <td>0.857</td>\n      <td>0.462</td>\n    </tr>\n    <tr>\n      <th>10123</th>\n      <td>710638233</td>\n      <td>Attrited Customer</td>\n      <td>41</td>\n      <td>M</td>\n      <td>2</td>\n      <td>Unknown</td>\n      <td>Divorced</td>\n      <td>$40K - $60K</td>\n      <td>Blue</td>\n      <td>25</td>\n      <td>...</td>\n      <td>2</td>\n      <td>3</td>\n      <td>4277.0</td>\n      <td>2186</td>\n      <td>2091.0</td>\n      <td>0.804</td>\n      <td>8764</td>\n      <td>69</td>\n      <td>0.683</td>\n      <td>0.511</td>\n    </tr>\n    <tr>\n      <th>10124</th>\n      <td>716506083</td>\n      <td>Attrited Customer</td>\n      <td>44</td>\n      <td>F</td>\n      <td>1</td>\n      <td>High School</td>\n      <td>Married</td>\n      <td>Less than $40K</td>\n      <td>Blue</td>\n      <td>36</td>\n      <td>...</td>\n      <td>3</td>\n      <td>4</td>\n      <td>5409.0</td>\n      <td>0</td>\n      <td>5409.0</td>\n      <td>0.819</td>\n      <td>10291</td>\n      <td>60</td>\n      <td>0.818</td>\n      <td>0.000</td>\n    </tr>\n    <tr>\n      <th>10125</th>\n      <td>717406983</td>\n      <td>Attrited Customer</td>\n      <td>30</td>\n      <td>M</td>\n      <td>2</td>\n      <td>Graduate</td>\n      <td>Unknown</td>\n      <td>$40K - $60K</td>\n      <td>Blue</td>\n      <td>36</td>\n      <td>...</td>\n      <td>3</td>\n      <td>3</td>\n      <td>5281.0</td>\n      <td>0</td>\n      <td>5281.0</td>\n      <td>0.535</td>\n      <td>8395</td>\n      <td>62</td>\n      <td>0.722</td>\n      <td>0.000</td>\n    </tr>\n    <tr>\n      <th>10126</th>\n      <td>714337233</td>\n      <td>Attrited Customer</td>\n      <td>43</td>\n      <td>F</td>\n      <td>2</td>\n      <td>Graduate</td>\n      <td>Married</td>\n      <td>Less than $40K</td>\n      <td>Silver</td>\n      <td>25</td>\n      <td>...</td>\n      <td>2</td>\n      <td>4</td>\n      <td>10388.0</td>\n      <td>1961</td>\n      <td>8427.0</td>\n      <td>0.703</td>\n      <td>10294</td>\n      <td>61</td>\n      <td>0.649</td>\n      <td>0.189</td>\n    </tr>\n  </tbody>\n</table>\n<p>10127 rows × 21 columns</p>\n</div>"
     },
     "execution_count": 4,
     "metadata": {},
     "output_type": "execute_result"
    }
   ],
   "source": [
    "#Drop columns that should be dropped\n",
    "df = df.drop(columns=['Naive_Bayes_Classifier_Attrition_Flag_Card_Category_Contacts_Count_12_mon_Dependent_count_Education_Level_Months_Inactive_12_mon_1', 'Naive_Bayes_Classifier_Attrition_Flag_Card_Category_Contacts_Count_12_mon_Dependent_count_Education_Level_Months_Inactive_12_mon_2'])\n",
    "df"
   ],
   "metadata": {
    "collapsed": false
   }
  },
  {
   "cell_type": "code",
   "execution_count": 5,
   "outputs": [
    {
     "data": {
      "text/plain": "(10127, 21)"
     },
     "execution_count": 5,
     "metadata": {},
     "output_type": "execute_result"
    }
   ],
   "source": [
    "df.shape"
   ],
   "metadata": {
    "collapsed": false
   }
  },
  {
   "cell_type": "code",
   "execution_count": 6,
   "outputs": [
    {
     "data": {
      "text/plain": "          CLIENTNUM  Customer_Age  Dependent_count  Months_on_book  \\\ncount  1.012700e+04  10127.000000     10127.000000    10127.000000   \nmean   7.391776e+08     46.325960         2.346203       35.928409   \nstd    3.690378e+07      8.016814         1.298908        7.986416   \nmin    7.080821e+08     26.000000         0.000000       13.000000   \n25%    7.130368e+08     41.000000         1.000000       31.000000   \n50%    7.179264e+08     46.000000         2.000000       36.000000   \n75%    7.731435e+08     52.000000         3.000000       40.000000   \nmax    8.283431e+08     73.000000         5.000000       56.000000   \n\n       Total_Relationship_Count  Months_Inactive_12_mon  \\\ncount              10127.000000            10127.000000   \nmean                   3.812580                2.341167   \nstd                    1.554408                1.010622   \nmin                    1.000000                0.000000   \n25%                    3.000000                2.000000   \n50%                    4.000000                2.000000   \n75%                    5.000000                3.000000   \nmax                    6.000000                6.000000   \n\n       Contacts_Count_12_mon  Credit_Limit  Total_Revolving_Bal  \\\ncount           10127.000000  10127.000000         10127.000000   \nmean                2.455317   8631.953698          1162.814061   \nstd                 1.106225   9088.776650           814.987335   \nmin                 0.000000   1438.300000             0.000000   \n25%                 2.000000   2555.000000           359.000000   \n50%                 2.000000   4549.000000          1276.000000   \n75%                 3.000000  11067.500000          1784.000000   \nmax                 6.000000  34516.000000          2517.000000   \n\n       Avg_Open_To_Buy  Total_Amt_Chng_Q4_Q1  Total_Trans_Amt  Total_Trans_Ct  \\\ncount     10127.000000          10127.000000     10127.000000    10127.000000   \nmean       7469.139637              0.759941      4404.086304       64.858695   \nstd        9090.685324              0.219207      3397.129254       23.472570   \nmin           3.000000              0.000000       510.000000       10.000000   \n25%        1324.500000              0.631000      2155.500000       45.000000   \n50%        3474.000000              0.736000      3899.000000       67.000000   \n75%        9859.000000              0.859000      4741.000000       81.000000   \nmax       34516.000000              3.397000     18484.000000      139.000000   \n\n       Total_Ct_Chng_Q4_Q1  Avg_Utilization_Ratio  \ncount         10127.000000           10127.000000  \nmean              0.712222               0.274894  \nstd               0.238086               0.275691  \nmin               0.000000               0.000000  \n25%               0.582000               0.023000  \n50%               0.702000               0.176000  \n75%               0.818000               0.503000  \nmax               3.714000               0.999000  ",
      "text/html": "<div>\n<style scoped>\n    .dataframe tbody tr th:only-of-type {\n        vertical-align: middle;\n    }\n\n    .dataframe tbody tr th {\n        vertical-align: top;\n    }\n\n    .dataframe thead th {\n        text-align: right;\n    }\n</style>\n<table border=\"1\" class=\"dataframe\">\n  <thead>\n    <tr style=\"text-align: right;\">\n      <th></th>\n      <th>CLIENTNUM</th>\n      <th>Customer_Age</th>\n      <th>Dependent_count</th>\n      <th>Months_on_book</th>\n      <th>Total_Relationship_Count</th>\n      <th>Months_Inactive_12_mon</th>\n      <th>Contacts_Count_12_mon</th>\n      <th>Credit_Limit</th>\n      <th>Total_Revolving_Bal</th>\n      <th>Avg_Open_To_Buy</th>\n      <th>Total_Amt_Chng_Q4_Q1</th>\n      <th>Total_Trans_Amt</th>\n      <th>Total_Trans_Ct</th>\n      <th>Total_Ct_Chng_Q4_Q1</th>\n      <th>Avg_Utilization_Ratio</th>\n    </tr>\n  </thead>\n  <tbody>\n    <tr>\n      <th>count</th>\n      <td>1.012700e+04</td>\n      <td>10127.000000</td>\n      <td>10127.000000</td>\n      <td>10127.000000</td>\n      <td>10127.000000</td>\n      <td>10127.000000</td>\n      <td>10127.000000</td>\n      <td>10127.000000</td>\n      <td>10127.000000</td>\n      <td>10127.000000</td>\n      <td>10127.000000</td>\n      <td>10127.000000</td>\n      <td>10127.000000</td>\n      <td>10127.000000</td>\n      <td>10127.000000</td>\n    </tr>\n    <tr>\n      <th>mean</th>\n      <td>7.391776e+08</td>\n      <td>46.325960</td>\n      <td>2.346203</td>\n      <td>35.928409</td>\n      <td>3.812580</td>\n      <td>2.341167</td>\n      <td>2.455317</td>\n      <td>8631.953698</td>\n      <td>1162.814061</td>\n      <td>7469.139637</td>\n      <td>0.759941</td>\n      <td>4404.086304</td>\n      <td>64.858695</td>\n      <td>0.712222</td>\n      <td>0.274894</td>\n    </tr>\n    <tr>\n      <th>std</th>\n      <td>3.690378e+07</td>\n      <td>8.016814</td>\n      <td>1.298908</td>\n      <td>7.986416</td>\n      <td>1.554408</td>\n      <td>1.010622</td>\n      <td>1.106225</td>\n      <td>9088.776650</td>\n      <td>814.987335</td>\n      <td>9090.685324</td>\n      <td>0.219207</td>\n      <td>3397.129254</td>\n      <td>23.472570</td>\n      <td>0.238086</td>\n      <td>0.275691</td>\n    </tr>\n    <tr>\n      <th>min</th>\n      <td>7.080821e+08</td>\n      <td>26.000000</td>\n      <td>0.000000</td>\n      <td>13.000000</td>\n      <td>1.000000</td>\n      <td>0.000000</td>\n      <td>0.000000</td>\n      <td>1438.300000</td>\n      <td>0.000000</td>\n      <td>3.000000</td>\n      <td>0.000000</td>\n      <td>510.000000</td>\n      <td>10.000000</td>\n      <td>0.000000</td>\n      <td>0.000000</td>\n    </tr>\n    <tr>\n      <th>25%</th>\n      <td>7.130368e+08</td>\n      <td>41.000000</td>\n      <td>1.000000</td>\n      <td>31.000000</td>\n      <td>3.000000</td>\n      <td>2.000000</td>\n      <td>2.000000</td>\n      <td>2555.000000</td>\n      <td>359.000000</td>\n      <td>1324.500000</td>\n      <td>0.631000</td>\n      <td>2155.500000</td>\n      <td>45.000000</td>\n      <td>0.582000</td>\n      <td>0.023000</td>\n    </tr>\n    <tr>\n      <th>50%</th>\n      <td>7.179264e+08</td>\n      <td>46.000000</td>\n      <td>2.000000</td>\n      <td>36.000000</td>\n      <td>4.000000</td>\n      <td>2.000000</td>\n      <td>2.000000</td>\n      <td>4549.000000</td>\n      <td>1276.000000</td>\n      <td>3474.000000</td>\n      <td>0.736000</td>\n      <td>3899.000000</td>\n      <td>67.000000</td>\n      <td>0.702000</td>\n      <td>0.176000</td>\n    </tr>\n    <tr>\n      <th>75%</th>\n      <td>7.731435e+08</td>\n      <td>52.000000</td>\n      <td>3.000000</td>\n      <td>40.000000</td>\n      <td>5.000000</td>\n      <td>3.000000</td>\n      <td>3.000000</td>\n      <td>11067.500000</td>\n      <td>1784.000000</td>\n      <td>9859.000000</td>\n      <td>0.859000</td>\n      <td>4741.000000</td>\n      <td>81.000000</td>\n      <td>0.818000</td>\n      <td>0.503000</td>\n    </tr>\n    <tr>\n      <th>max</th>\n      <td>8.283431e+08</td>\n      <td>73.000000</td>\n      <td>5.000000</td>\n      <td>56.000000</td>\n      <td>6.000000</td>\n      <td>6.000000</td>\n      <td>6.000000</td>\n      <td>34516.000000</td>\n      <td>2517.000000</td>\n      <td>34516.000000</td>\n      <td>3.397000</td>\n      <td>18484.000000</td>\n      <td>139.000000</td>\n      <td>3.714000</td>\n      <td>0.999000</td>\n    </tr>\n  </tbody>\n</table>\n</div>"
     },
     "execution_count": 6,
     "metadata": {},
     "output_type": "execute_result"
    }
   ],
   "source": [
    "df.describe()"
   ],
   "metadata": {
    "collapsed": false
   }
  },
  {
   "cell_type": "code",
   "execution_count": 7,
   "outputs": [
    {
     "data": {
      "text/plain": "CLIENTNUM                   0\nMonths_Inactive_12_mon      0\nTotal_Ct_Chng_Q4_Q1         0\nTotal_Trans_Ct              0\nTotal_Trans_Amt             0\nTotal_Amt_Chng_Q4_Q1        0\nAvg_Open_To_Buy             0\nTotal_Revolving_Bal         0\nCredit_Limit                0\nContacts_Count_12_mon       0\nTotal_Relationship_Count    0\nAttrition_Flag              0\nMonths_on_book              0\nCard_Category               0\nIncome_Category             0\nMarital_Status              0\nEducation_Level             0\nDependent_count             0\nGender                      0\nCustomer_Age                0\nAvg_Utilization_Ratio       0\ndtype: int64"
     },
     "execution_count": 7,
     "metadata": {},
     "output_type": "execute_result"
    }
   ],
   "source": [
    "#Check for missing values\n",
    "df.isna().sum().sort_values(ascending=False)"
   ],
   "metadata": {
    "collapsed": false
   }
  },
  {
   "cell_type": "markdown",
   "source": [
    "There are not any missing values in the dataset, now we could prepare data."
   ],
   "metadata": {
    "collapsed": false
   }
  },
  {
   "cell_type": "markdown",
   "source": [
    "## What metric to use"
   ],
   "metadata": {
    "collapsed": false
   }
  },
  {
   "cell_type": "code",
   "execution_count": 8,
   "outputs": [
    {
     "data": {
      "text/plain": "      Attrition_Flag  Count\n0  Attrited Customer   1627\n1  Existing Customer   8500",
      "text/html": "<div>\n<style scoped>\n    .dataframe tbody tr th:only-of-type {\n        vertical-align: middle;\n    }\n\n    .dataframe tbody tr th {\n        vertical-align: top;\n    }\n\n    .dataframe thead th {\n        text-align: right;\n    }\n</style>\n<table border=\"1\" class=\"dataframe\">\n  <thead>\n    <tr style=\"text-align: right;\">\n      <th></th>\n      <th>Attrition_Flag</th>\n      <th>Count</th>\n    </tr>\n  </thead>\n  <tbody>\n    <tr>\n      <th>0</th>\n      <td>Attrited Customer</td>\n      <td>1627</td>\n    </tr>\n    <tr>\n      <th>1</th>\n      <td>Existing Customer</td>\n      <td>8500</td>\n    </tr>\n  </tbody>\n</table>\n</div>"
     },
     "execution_count": 8,
     "metadata": {},
     "output_type": "execute_result"
    }
   ],
   "source": [
    "tmp = df.groupby('Attrition_Flag').Attrition_Flag.count().reset_index(name = 'Count')\n",
    "tmp"
   ],
   "metadata": {
    "collapsed": false
   }
  },
  {
   "cell_type": "markdown",
   "source": [
    "As we could see, the nuber of customers in categories has high difference, therefor, we will use Stratified Cross validation. As a metric, we will use accuracy metric, because it is not obvious which type of customers are more important for us.\n",
    "\n",
    "Each of the metrics is important for different type of problem,  for example if we need minimal number of false positive, we will use precision score. On the other hand, if we need to minimalize false negative results (for example covid tests), we will use recall score."
   ],
   "metadata": {
    "collapsed": false
   }
  },
  {
   "cell_type": "markdown",
   "source": [
    "## Encoding categorical attributes"
   ],
   "metadata": {
    "collapsed": false
   }
  },
  {
   "cell_type": "code",
   "execution_count": 9,
   "outputs": [
    {
     "data": {
      "text/plain": "CLIENTNUM                     int64\nAttrition_Flag               object\nCustomer_Age                  int64\nGender                       object\nDependent_count               int64\nEducation_Level              object\nMarital_Status               object\nIncome_Category              object\nCard_Category                object\nMonths_on_book                int64\nTotal_Relationship_Count      int64\nMonths_Inactive_12_mon        int64\nContacts_Count_12_mon         int64\nCredit_Limit                float64\nTotal_Revolving_Bal           int64\nAvg_Open_To_Buy             float64\nTotal_Amt_Chng_Q4_Q1        float64\nTotal_Trans_Amt               int64\nTotal_Trans_Ct                int64\nTotal_Ct_Chng_Q4_Q1         float64\nAvg_Utilization_Ratio       float64\ndtype: object"
     },
     "execution_count": 9,
     "metadata": {},
     "output_type": "execute_result"
    }
   ],
   "source": [
    "df.dtypes"
   ],
   "metadata": {
    "collapsed": false
   }
  },
  {
   "cell_type": "code",
   "execution_count": 10,
   "outputs": [
    {
     "data": {
      "text/plain": "['Attrition_Flag',\n 'Gender',\n 'Education_Level',\n 'Marital_Status',\n 'Income_Category',\n 'Card_Category']"
     },
     "execution_count": 10,
     "metadata": {},
     "output_type": "execute_result"
    }
   ],
   "source": [
    "list(df.select_dtypes(['object']).columns)"
   ],
   "metadata": {
    "collapsed": false
   }
  },
  {
   "cell_type": "markdown",
   "source": [
    "We see that some attributes are categorical, now we have to convert them to numerical by using encoding. We have to look on each of them and decide which encoder will be optimal (one-hot, ordinal, ...)."
   ],
   "metadata": {
    "collapsed": false
   }
  },
  {
   "cell_type": "code",
   "execution_count": 11,
   "outputs": [
    {
     "data": {
      "text/plain": "array(['Attrited Customer', 'Existing Customer'], dtype=object)"
     },
     "execution_count": 11,
     "metadata": {},
     "output_type": "execute_result"
    }
   ],
   "source": [
    "#Attrition flag\n",
    "np.unique(df.Attrition_Flag)"
   ],
   "metadata": {
    "collapsed": false
   }
  },
  {
   "cell_type": "markdown",
   "source": [
    "Attribute Attrition flag has just two different values, Attrited and Existing customer, therefor we could encode Attrited_Customer as 0, and Existing_Customer as 1."
   ],
   "metadata": {
    "collapsed": false
   }
  },
  {
   "cell_type": "code",
   "execution_count": 12,
   "outputs": [],
   "source": [
    "#df.Attrition_Flag\n",
    "df.Attrition_Flag = (df.Attrition_Flag == 'Existing Customer').astype(int)"
   ],
   "metadata": {
    "collapsed": false
   }
  },
  {
   "cell_type": "code",
   "execution_count": 13,
   "outputs": [
    {
     "data": {
      "text/plain": "array(['F', 'M'], dtype=object)"
     },
     "execution_count": 13,
     "metadata": {},
     "output_type": "execute_result"
    }
   ],
   "source": [
    "#Gender\n",
    "np.unique(df.Gender)"
   ],
   "metadata": {
    "collapsed": false
   }
  },
  {
   "cell_type": "markdown",
   "source": [
    "For gender, we could use similar encoding as for Attrition_Flag (0 = Female, 1 = Male)"
   ],
   "metadata": {
    "collapsed": false
   }
  },
  {
   "cell_type": "code",
   "execution_count": 14,
   "outputs": [],
   "source": [
    "df.Gender = (df.Gender == 'M').astype(int)"
   ],
   "metadata": {
    "collapsed": false
   }
  },
  {
   "cell_type": "code",
   "execution_count": 15,
   "outputs": [
    {
     "data": {
      "text/plain": "array(['College', 'Doctorate', 'Graduate', 'High School', 'Post-Graduate',\n       'Uneducated', 'Unknown'], dtype=object)"
     },
     "execution_count": 15,
     "metadata": {},
     "output_type": "execute_result"
    }
   ],
   "source": [
    "#Education_Level\n",
    "np.unique(df.Education_Level)"
   ],
   "metadata": {
    "collapsed": false
   }
  },
  {
   "cell_type": "markdown",
   "source": [
    "We will use ordinal encoder for Education_Level."
   ],
   "metadata": {
    "collapsed": false
   }
  },
  {
   "cell_type": "code",
   "execution_count": 16,
   "outputs": [],
   "source": [
    "education_encoder = OrdinalEncoder(categories=[['Unknown', 'Uneducated', 'High School', 'College', 'Graduate', 'Doctorate', 'Post-Graduate']])\n",
    "df.Education_Level = education_encoder.fit_transform(df[['Education_Level']])"
   ],
   "metadata": {
    "collapsed": false
   }
  },
  {
   "cell_type": "code",
   "execution_count": 17,
   "outputs": [
    {
     "data": {
      "text/plain": "array(['Divorced', 'Married', 'Single', 'Unknown'], dtype=object)"
     },
     "execution_count": 17,
     "metadata": {},
     "output_type": "execute_result"
    }
   ],
   "source": [
    "#Marital_Status\n",
    "np.unique(df.Marital_Status)"
   ],
   "metadata": {
    "collapsed": false
   }
  },
  {
   "cell_type": "markdown",
   "source": [
    "We will use one_hot encoding for Marital_status, because we could not put them in any logical order."
   ],
   "metadata": {
    "collapsed": false
   }
  },
  {
   "cell_type": "code",
   "execution_count": 18,
   "outputs": [],
   "source": [
    "df = pd.concat([df,pd.get_dummies(df['Marital_Status'], prefix='Marital_Status')], axis=1).drop('Marital_Status', axis=1)"
   ],
   "metadata": {
    "collapsed": false
   }
  },
  {
   "cell_type": "code",
   "execution_count": 19,
   "outputs": [
    {
     "data": {
      "text/plain": "array(['$120K +', '$40K - $60K', '$60K - $80K', '$80K - $120K',\n       'Less than $40K', 'Unknown'], dtype=object)"
     },
     "execution_count": 19,
     "metadata": {},
     "output_type": "execute_result"
    }
   ],
   "source": [
    "#Income_Category\n",
    "np.unique(df.Income_Category)"
   ],
   "metadata": {
    "collapsed": false
   }
  },
  {
   "cell_type": "markdown",
   "source": [
    "For Income_Category, we could easily use ordinal encoder."
   ],
   "metadata": {
    "collapsed": false
   }
  },
  {
   "cell_type": "code",
   "execution_count": 20,
   "outputs": [],
   "source": [
    "income_encoder = OrdinalEncoder(categories=[['Unknown', 'Less than $40K', '$40K - $60K', '$60K - $80K', '$80K - $120K', '$120K +']])\n",
    "df.Income_Category = income_encoder.fit_transform(df[['Income_Category']])"
   ],
   "metadata": {
    "collapsed": false
   }
  },
  {
   "cell_type": "code",
   "execution_count": 21,
   "outputs": [
    {
     "data": {
      "text/plain": "array(['Blue', 'Gold', 'Platinum', 'Silver'], dtype=object)"
     },
     "execution_count": 21,
     "metadata": {},
     "output_type": "execute_result"
    }
   ],
   "source": [
    "#Card_Category\n",
    "np.unique(df.Card_Category)"
   ],
   "metadata": {
    "collapsed": false
   }
  },
  {
   "cell_type": "markdown",
   "source": [
    "We will use ordinal encoding for Card_category, because there is a logical order in card categories (Blue, Silver, Gold, Platinum)."
   ],
   "metadata": {
    "collapsed": false
   }
  },
  {
   "cell_type": "code",
   "execution_count": 22,
   "outputs": [],
   "source": [
    "card_category_encoder = OrdinalEncoder(categories=[['Blue', 'Silver', 'Gold', 'Platinum']])\n",
    "df.Card_Category = card_category_encoder.fit_transform(df[['Card_Category']])"
   ],
   "metadata": {
    "collapsed": false
   }
  },
  {
   "cell_type": "markdown",
   "source": [
    "Let's look on the dataset now, after encoding is done."
   ],
   "metadata": {
    "collapsed": false
   }
  },
  {
   "cell_type": "code",
   "execution_count": 23,
   "outputs": [
    {
     "data": {
      "text/plain": "       CLIENTNUM  Attrition_Flag  Customer_Age  Gender  Dependent_count  \\\n0      768805383               1            45       1                3   \n1      818770008               1            49       0                5   \n2      713982108               1            51       1                3   \n3      769911858               1            40       0                4   \n4      709106358               1            40       1                3   \n...          ...             ...           ...     ...              ...   \n10122  772366833               1            50       1                2   \n10123  710638233               0            41       1                2   \n10124  716506083               0            44       0                1   \n10125  717406983               0            30       1                2   \n10126  714337233               0            43       0                2   \n\n       Education_Level  Income_Category  Card_Category  Months_on_book  \\\n0                  2.0              3.0            0.0              39   \n1                  4.0              1.0            0.0              44   \n2                  4.0              4.0            0.0              36   \n3                  2.0              1.0            0.0              34   \n4                  1.0              3.0            0.0              21   \n...                ...              ...            ...             ...   \n10122              4.0              2.0            0.0              40   \n10123              0.0              2.0            0.0              25   \n10124              2.0              1.0            0.0              36   \n10125              4.0              2.0            0.0              36   \n10126              4.0              1.0            1.0              25   \n\n       Total_Relationship_Count  ...  Avg_Open_To_Buy  Total_Amt_Chng_Q4_Q1  \\\n0                             5  ...          11914.0                 1.335   \n1                             6  ...           7392.0                 1.541   \n2                             4  ...           3418.0                 2.594   \n3                             3  ...            796.0                 1.405   \n4                             5  ...           4716.0                 2.175   \n...                         ...  ...              ...                   ...   \n10122                         3  ...           2152.0                 0.703   \n10123                         4  ...           2091.0                 0.804   \n10124                         5  ...           5409.0                 0.819   \n10125                         4  ...           5281.0                 0.535   \n10126                         6  ...           8427.0                 0.703   \n\n       Total_Trans_Amt  Total_Trans_Ct  Total_Ct_Chng_Q4_Q1  \\\n0                 1144              42                1.625   \n1                 1291              33                3.714   \n2                 1887              20                2.333   \n3                 1171              20                2.333   \n4                  816              28                2.500   \n...                ...             ...                  ...   \n10122            15476             117                0.857   \n10123             8764              69                0.683   \n10124            10291              60                0.818   \n10125             8395              62                0.722   \n10126            10294              61                0.649   \n\n       Avg_Utilization_Ratio  Marital_Status_Divorced  Marital_Status_Married  \\\n0                      0.061                        0                       1   \n1                      0.105                        0                       0   \n2                      0.000                        0                       1   \n3                      0.760                        0                       0   \n4                      0.000                        0                       1   \n...                      ...                      ...                     ...   \n10122                  0.462                        0                       0   \n10123                  0.511                        1                       0   \n10124                  0.000                        0                       1   \n10125                  0.000                        0                       0   \n10126                  0.189                        0                       1   \n\n       Marital_Status_Single  Marital_Status_Unknown  \n0                          0                       0  \n1                          1                       0  \n2                          0                       0  \n3                          0                       1  \n4                          0                       0  \n...                      ...                     ...  \n10122                      1                       0  \n10123                      0                       0  \n10124                      0                       0  \n10125                      0                       1  \n10126                      0                       0  \n\n[10127 rows x 24 columns]",
      "text/html": "<div>\n<style scoped>\n    .dataframe tbody tr th:only-of-type {\n        vertical-align: middle;\n    }\n\n    .dataframe tbody tr th {\n        vertical-align: top;\n    }\n\n    .dataframe thead th {\n        text-align: right;\n    }\n</style>\n<table border=\"1\" class=\"dataframe\">\n  <thead>\n    <tr style=\"text-align: right;\">\n      <th></th>\n      <th>CLIENTNUM</th>\n      <th>Attrition_Flag</th>\n      <th>Customer_Age</th>\n      <th>Gender</th>\n      <th>Dependent_count</th>\n      <th>Education_Level</th>\n      <th>Income_Category</th>\n      <th>Card_Category</th>\n      <th>Months_on_book</th>\n      <th>Total_Relationship_Count</th>\n      <th>...</th>\n      <th>Avg_Open_To_Buy</th>\n      <th>Total_Amt_Chng_Q4_Q1</th>\n      <th>Total_Trans_Amt</th>\n      <th>Total_Trans_Ct</th>\n      <th>Total_Ct_Chng_Q4_Q1</th>\n      <th>Avg_Utilization_Ratio</th>\n      <th>Marital_Status_Divorced</th>\n      <th>Marital_Status_Married</th>\n      <th>Marital_Status_Single</th>\n      <th>Marital_Status_Unknown</th>\n    </tr>\n  </thead>\n  <tbody>\n    <tr>\n      <th>0</th>\n      <td>768805383</td>\n      <td>1</td>\n      <td>45</td>\n      <td>1</td>\n      <td>3</td>\n      <td>2.0</td>\n      <td>3.0</td>\n      <td>0.0</td>\n      <td>39</td>\n      <td>5</td>\n      <td>...</td>\n      <td>11914.0</td>\n      <td>1.335</td>\n      <td>1144</td>\n      <td>42</td>\n      <td>1.625</td>\n      <td>0.061</td>\n      <td>0</td>\n      <td>1</td>\n      <td>0</td>\n      <td>0</td>\n    </tr>\n    <tr>\n      <th>1</th>\n      <td>818770008</td>\n      <td>1</td>\n      <td>49</td>\n      <td>0</td>\n      <td>5</td>\n      <td>4.0</td>\n      <td>1.0</td>\n      <td>0.0</td>\n      <td>44</td>\n      <td>6</td>\n      <td>...</td>\n      <td>7392.0</td>\n      <td>1.541</td>\n      <td>1291</td>\n      <td>33</td>\n      <td>3.714</td>\n      <td>0.105</td>\n      <td>0</td>\n      <td>0</td>\n      <td>1</td>\n      <td>0</td>\n    </tr>\n    <tr>\n      <th>2</th>\n      <td>713982108</td>\n      <td>1</td>\n      <td>51</td>\n      <td>1</td>\n      <td>3</td>\n      <td>4.0</td>\n      <td>4.0</td>\n      <td>0.0</td>\n      <td>36</td>\n      <td>4</td>\n      <td>...</td>\n      <td>3418.0</td>\n      <td>2.594</td>\n      <td>1887</td>\n      <td>20</td>\n      <td>2.333</td>\n      <td>0.000</td>\n      <td>0</td>\n      <td>1</td>\n      <td>0</td>\n      <td>0</td>\n    </tr>\n    <tr>\n      <th>3</th>\n      <td>769911858</td>\n      <td>1</td>\n      <td>40</td>\n      <td>0</td>\n      <td>4</td>\n      <td>2.0</td>\n      <td>1.0</td>\n      <td>0.0</td>\n      <td>34</td>\n      <td>3</td>\n      <td>...</td>\n      <td>796.0</td>\n      <td>1.405</td>\n      <td>1171</td>\n      <td>20</td>\n      <td>2.333</td>\n      <td>0.760</td>\n      <td>0</td>\n      <td>0</td>\n      <td>0</td>\n      <td>1</td>\n    </tr>\n    <tr>\n      <th>4</th>\n      <td>709106358</td>\n      <td>1</td>\n      <td>40</td>\n      <td>1</td>\n      <td>3</td>\n      <td>1.0</td>\n      <td>3.0</td>\n      <td>0.0</td>\n      <td>21</td>\n      <td>5</td>\n      <td>...</td>\n      <td>4716.0</td>\n      <td>2.175</td>\n      <td>816</td>\n      <td>28</td>\n      <td>2.500</td>\n      <td>0.000</td>\n      <td>0</td>\n      <td>1</td>\n      <td>0</td>\n      <td>0</td>\n    </tr>\n    <tr>\n      <th>...</th>\n      <td>...</td>\n      <td>...</td>\n      <td>...</td>\n      <td>...</td>\n      <td>...</td>\n      <td>...</td>\n      <td>...</td>\n      <td>...</td>\n      <td>...</td>\n      <td>...</td>\n      <td>...</td>\n      <td>...</td>\n      <td>...</td>\n      <td>...</td>\n      <td>...</td>\n      <td>...</td>\n      <td>...</td>\n      <td>...</td>\n      <td>...</td>\n      <td>...</td>\n      <td>...</td>\n    </tr>\n    <tr>\n      <th>10122</th>\n      <td>772366833</td>\n      <td>1</td>\n      <td>50</td>\n      <td>1</td>\n      <td>2</td>\n      <td>4.0</td>\n      <td>2.0</td>\n      <td>0.0</td>\n      <td>40</td>\n      <td>3</td>\n      <td>...</td>\n      <td>2152.0</td>\n      <td>0.703</td>\n      <td>15476</td>\n      <td>117</td>\n      <td>0.857</td>\n      <td>0.462</td>\n      <td>0</td>\n      <td>0</td>\n      <td>1</td>\n      <td>0</td>\n    </tr>\n    <tr>\n      <th>10123</th>\n      <td>710638233</td>\n      <td>0</td>\n      <td>41</td>\n      <td>1</td>\n      <td>2</td>\n      <td>0.0</td>\n      <td>2.0</td>\n      <td>0.0</td>\n      <td>25</td>\n      <td>4</td>\n      <td>...</td>\n      <td>2091.0</td>\n      <td>0.804</td>\n      <td>8764</td>\n      <td>69</td>\n      <td>0.683</td>\n      <td>0.511</td>\n      <td>1</td>\n      <td>0</td>\n      <td>0</td>\n      <td>0</td>\n    </tr>\n    <tr>\n      <th>10124</th>\n      <td>716506083</td>\n      <td>0</td>\n      <td>44</td>\n      <td>0</td>\n      <td>1</td>\n      <td>2.0</td>\n      <td>1.0</td>\n      <td>0.0</td>\n      <td>36</td>\n      <td>5</td>\n      <td>...</td>\n      <td>5409.0</td>\n      <td>0.819</td>\n      <td>10291</td>\n      <td>60</td>\n      <td>0.818</td>\n      <td>0.000</td>\n      <td>0</td>\n      <td>1</td>\n      <td>0</td>\n      <td>0</td>\n    </tr>\n    <tr>\n      <th>10125</th>\n      <td>717406983</td>\n      <td>0</td>\n      <td>30</td>\n      <td>1</td>\n      <td>2</td>\n      <td>4.0</td>\n      <td>2.0</td>\n      <td>0.0</td>\n      <td>36</td>\n      <td>4</td>\n      <td>...</td>\n      <td>5281.0</td>\n      <td>0.535</td>\n      <td>8395</td>\n      <td>62</td>\n      <td>0.722</td>\n      <td>0.000</td>\n      <td>0</td>\n      <td>0</td>\n      <td>0</td>\n      <td>1</td>\n    </tr>\n    <tr>\n      <th>10126</th>\n      <td>714337233</td>\n      <td>0</td>\n      <td>43</td>\n      <td>0</td>\n      <td>2</td>\n      <td>4.0</td>\n      <td>1.0</td>\n      <td>1.0</td>\n      <td>25</td>\n      <td>6</td>\n      <td>...</td>\n      <td>8427.0</td>\n      <td>0.703</td>\n      <td>10294</td>\n      <td>61</td>\n      <td>0.649</td>\n      <td>0.189</td>\n      <td>0</td>\n      <td>1</td>\n      <td>0</td>\n      <td>0</td>\n    </tr>\n  </tbody>\n</table>\n<p>10127 rows × 24 columns</p>\n</div>"
     },
     "execution_count": 23,
     "metadata": {},
     "output_type": "execute_result"
    }
   ],
   "source": [
    "df"
   ],
   "metadata": {
    "collapsed": false
   }
  },
  {
   "cell_type": "code",
   "execution_count": 24,
   "outputs": [
    {
     "data": {
      "text/plain": "CLIENTNUM                     int64\nAttrition_Flag                int32\nCustomer_Age                  int64\nGender                        int32\nDependent_count               int64\nEducation_Level             float64\nIncome_Category             float64\nCard_Category               float64\nMonths_on_book                int64\nTotal_Relationship_Count      int64\nMonths_Inactive_12_mon        int64\nContacts_Count_12_mon         int64\nCredit_Limit                float64\nTotal_Revolving_Bal           int64\nAvg_Open_To_Buy             float64\nTotal_Amt_Chng_Q4_Q1        float64\nTotal_Trans_Amt               int64\nTotal_Trans_Ct                int64\nTotal_Ct_Chng_Q4_Q1         float64\nAvg_Utilization_Ratio       float64\nMarital_Status_Divorced       uint8\nMarital_Status_Married        uint8\nMarital_Status_Single         uint8\nMarital_Status_Unknown        uint8\ndtype: object"
     },
     "execution_count": 24,
     "metadata": {},
     "output_type": "execute_result"
    }
   ],
   "source": [
    "df.dtypes"
   ],
   "metadata": {
    "collapsed": false
   }
  },
  {
   "cell_type": "code",
   "execution_count": 25,
   "outputs": [
    {
     "data": {
      "text/plain": "10127"
     },
     "execution_count": 25,
     "metadata": {},
     "output_type": "execute_result"
    }
   ],
   "source": [
    "np.unique(df.CLIENTNUM).shape[0]"
   ],
   "metadata": {
    "collapsed": false
   }
  },
  {
   "cell_type": "markdown",
   "source": [
    "As we could see above, CLIENTNUMBER is unique for each customer, and it does not make a sense to use it for classification.\n"
   ],
   "metadata": {
    "collapsed": false
   }
  },
  {
   "cell_type": "code",
   "execution_count": 26,
   "outputs": [
    {
     "data": {
      "text/plain": "       Attrition_Flag  Customer_Age  Gender  Dependent_count  Education_Level  \\\n0                   1            45       1                3              2.0   \n1                   1            49       0                5              4.0   \n2                   1            51       1                3              4.0   \n3                   1            40       0                4              2.0   \n4                   1            40       1                3              1.0   \n...               ...           ...     ...              ...              ...   \n10122               1            50       1                2              4.0   \n10123               0            41       1                2              0.0   \n10124               0            44       0                1              2.0   \n10125               0            30       1                2              4.0   \n10126               0            43       0                2              4.0   \n\n       Income_Category  Card_Category  Months_on_book  \\\n0                  3.0            0.0              39   \n1                  1.0            0.0              44   \n2                  4.0            0.0              36   \n3                  1.0            0.0              34   \n4                  3.0            0.0              21   \n...                ...            ...             ...   \n10122              2.0            0.0              40   \n10123              2.0            0.0              25   \n10124              1.0            0.0              36   \n10125              2.0            0.0              36   \n10126              1.0            1.0              25   \n\n       Total_Relationship_Count  Months_Inactive_12_mon  ...  Avg_Open_To_Buy  \\\n0                             5                       1  ...          11914.0   \n1                             6                       1  ...           7392.0   \n2                             4                       1  ...           3418.0   \n3                             3                       4  ...            796.0   \n4                             5                       1  ...           4716.0   \n...                         ...                     ...  ...              ...   \n10122                         3                       2  ...           2152.0   \n10123                         4                       2  ...           2091.0   \n10124                         5                       3  ...           5409.0   \n10125                         4                       3  ...           5281.0   \n10126                         6                       2  ...           8427.0   \n\n       Total_Amt_Chng_Q4_Q1  Total_Trans_Amt  Total_Trans_Ct  \\\n0                     1.335             1144              42   \n1                     1.541             1291              33   \n2                     2.594             1887              20   \n3                     1.405             1171              20   \n4                     2.175              816              28   \n...                     ...              ...             ...   \n10122                 0.703            15476             117   \n10123                 0.804             8764              69   \n10124                 0.819            10291              60   \n10125                 0.535             8395              62   \n10126                 0.703            10294              61   \n\n       Total_Ct_Chng_Q4_Q1  Avg_Utilization_Ratio  Marital_Status_Divorced  \\\n0                    1.625                  0.061                        0   \n1                    3.714                  0.105                        0   \n2                    2.333                  0.000                        0   \n3                    2.333                  0.760                        0   \n4                    2.500                  0.000                        0   \n...                    ...                    ...                      ...   \n10122                0.857                  0.462                        0   \n10123                0.683                  0.511                        1   \n10124                0.818                  0.000                        0   \n10125                0.722                  0.000                        0   \n10126                0.649                  0.189                        0   \n\n       Marital_Status_Married  Marital_Status_Single  Marital_Status_Unknown  \n0                           1                      0                       0  \n1                           0                      1                       0  \n2                           1                      0                       0  \n3                           0                      0                       1  \n4                           1                      0                       0  \n...                       ...                    ...                     ...  \n10122                       0                      1                       0  \n10123                       0                      0                       0  \n10124                       1                      0                       0  \n10125                       0                      0                       1  \n10126                       1                      0                       0  \n\n[10127 rows x 23 columns]",
      "text/html": "<div>\n<style scoped>\n    .dataframe tbody tr th:only-of-type {\n        vertical-align: middle;\n    }\n\n    .dataframe tbody tr th {\n        vertical-align: top;\n    }\n\n    .dataframe thead th {\n        text-align: right;\n    }\n</style>\n<table border=\"1\" class=\"dataframe\">\n  <thead>\n    <tr style=\"text-align: right;\">\n      <th></th>\n      <th>Attrition_Flag</th>\n      <th>Customer_Age</th>\n      <th>Gender</th>\n      <th>Dependent_count</th>\n      <th>Education_Level</th>\n      <th>Income_Category</th>\n      <th>Card_Category</th>\n      <th>Months_on_book</th>\n      <th>Total_Relationship_Count</th>\n      <th>Months_Inactive_12_mon</th>\n      <th>...</th>\n      <th>Avg_Open_To_Buy</th>\n      <th>Total_Amt_Chng_Q4_Q1</th>\n      <th>Total_Trans_Amt</th>\n      <th>Total_Trans_Ct</th>\n      <th>Total_Ct_Chng_Q4_Q1</th>\n      <th>Avg_Utilization_Ratio</th>\n      <th>Marital_Status_Divorced</th>\n      <th>Marital_Status_Married</th>\n      <th>Marital_Status_Single</th>\n      <th>Marital_Status_Unknown</th>\n    </tr>\n  </thead>\n  <tbody>\n    <tr>\n      <th>0</th>\n      <td>1</td>\n      <td>45</td>\n      <td>1</td>\n      <td>3</td>\n      <td>2.0</td>\n      <td>3.0</td>\n      <td>0.0</td>\n      <td>39</td>\n      <td>5</td>\n      <td>1</td>\n      <td>...</td>\n      <td>11914.0</td>\n      <td>1.335</td>\n      <td>1144</td>\n      <td>42</td>\n      <td>1.625</td>\n      <td>0.061</td>\n      <td>0</td>\n      <td>1</td>\n      <td>0</td>\n      <td>0</td>\n    </tr>\n    <tr>\n      <th>1</th>\n      <td>1</td>\n      <td>49</td>\n      <td>0</td>\n      <td>5</td>\n      <td>4.0</td>\n      <td>1.0</td>\n      <td>0.0</td>\n      <td>44</td>\n      <td>6</td>\n      <td>1</td>\n      <td>...</td>\n      <td>7392.0</td>\n      <td>1.541</td>\n      <td>1291</td>\n      <td>33</td>\n      <td>3.714</td>\n      <td>0.105</td>\n      <td>0</td>\n      <td>0</td>\n      <td>1</td>\n      <td>0</td>\n    </tr>\n    <tr>\n      <th>2</th>\n      <td>1</td>\n      <td>51</td>\n      <td>1</td>\n      <td>3</td>\n      <td>4.0</td>\n      <td>4.0</td>\n      <td>0.0</td>\n      <td>36</td>\n      <td>4</td>\n      <td>1</td>\n      <td>...</td>\n      <td>3418.0</td>\n      <td>2.594</td>\n      <td>1887</td>\n      <td>20</td>\n      <td>2.333</td>\n      <td>0.000</td>\n      <td>0</td>\n      <td>1</td>\n      <td>0</td>\n      <td>0</td>\n    </tr>\n    <tr>\n      <th>3</th>\n      <td>1</td>\n      <td>40</td>\n      <td>0</td>\n      <td>4</td>\n      <td>2.0</td>\n      <td>1.0</td>\n      <td>0.0</td>\n      <td>34</td>\n      <td>3</td>\n      <td>4</td>\n      <td>...</td>\n      <td>796.0</td>\n      <td>1.405</td>\n      <td>1171</td>\n      <td>20</td>\n      <td>2.333</td>\n      <td>0.760</td>\n      <td>0</td>\n      <td>0</td>\n      <td>0</td>\n      <td>1</td>\n    </tr>\n    <tr>\n      <th>4</th>\n      <td>1</td>\n      <td>40</td>\n      <td>1</td>\n      <td>3</td>\n      <td>1.0</td>\n      <td>3.0</td>\n      <td>0.0</td>\n      <td>21</td>\n      <td>5</td>\n      <td>1</td>\n      <td>...</td>\n      <td>4716.0</td>\n      <td>2.175</td>\n      <td>816</td>\n      <td>28</td>\n      <td>2.500</td>\n      <td>0.000</td>\n      <td>0</td>\n      <td>1</td>\n      <td>0</td>\n      <td>0</td>\n    </tr>\n    <tr>\n      <th>...</th>\n      <td>...</td>\n      <td>...</td>\n      <td>...</td>\n      <td>...</td>\n      <td>...</td>\n      <td>...</td>\n      <td>...</td>\n      <td>...</td>\n      <td>...</td>\n      <td>...</td>\n      <td>...</td>\n      <td>...</td>\n      <td>...</td>\n      <td>...</td>\n      <td>...</td>\n      <td>...</td>\n      <td>...</td>\n      <td>...</td>\n      <td>...</td>\n      <td>...</td>\n      <td>...</td>\n    </tr>\n    <tr>\n      <th>10122</th>\n      <td>1</td>\n      <td>50</td>\n      <td>1</td>\n      <td>2</td>\n      <td>4.0</td>\n      <td>2.0</td>\n      <td>0.0</td>\n      <td>40</td>\n      <td>3</td>\n      <td>2</td>\n      <td>...</td>\n      <td>2152.0</td>\n      <td>0.703</td>\n      <td>15476</td>\n      <td>117</td>\n      <td>0.857</td>\n      <td>0.462</td>\n      <td>0</td>\n      <td>0</td>\n      <td>1</td>\n      <td>0</td>\n    </tr>\n    <tr>\n      <th>10123</th>\n      <td>0</td>\n      <td>41</td>\n      <td>1</td>\n      <td>2</td>\n      <td>0.0</td>\n      <td>2.0</td>\n      <td>0.0</td>\n      <td>25</td>\n      <td>4</td>\n      <td>2</td>\n      <td>...</td>\n      <td>2091.0</td>\n      <td>0.804</td>\n      <td>8764</td>\n      <td>69</td>\n      <td>0.683</td>\n      <td>0.511</td>\n      <td>1</td>\n      <td>0</td>\n      <td>0</td>\n      <td>0</td>\n    </tr>\n    <tr>\n      <th>10124</th>\n      <td>0</td>\n      <td>44</td>\n      <td>0</td>\n      <td>1</td>\n      <td>2.0</td>\n      <td>1.0</td>\n      <td>0.0</td>\n      <td>36</td>\n      <td>5</td>\n      <td>3</td>\n      <td>...</td>\n      <td>5409.0</td>\n      <td>0.819</td>\n      <td>10291</td>\n      <td>60</td>\n      <td>0.818</td>\n      <td>0.000</td>\n      <td>0</td>\n      <td>1</td>\n      <td>0</td>\n      <td>0</td>\n    </tr>\n    <tr>\n      <th>10125</th>\n      <td>0</td>\n      <td>30</td>\n      <td>1</td>\n      <td>2</td>\n      <td>4.0</td>\n      <td>2.0</td>\n      <td>0.0</td>\n      <td>36</td>\n      <td>4</td>\n      <td>3</td>\n      <td>...</td>\n      <td>5281.0</td>\n      <td>0.535</td>\n      <td>8395</td>\n      <td>62</td>\n      <td>0.722</td>\n      <td>0.000</td>\n      <td>0</td>\n      <td>0</td>\n      <td>0</td>\n      <td>1</td>\n    </tr>\n    <tr>\n      <th>10126</th>\n      <td>0</td>\n      <td>43</td>\n      <td>0</td>\n      <td>2</td>\n      <td>4.0</td>\n      <td>1.0</td>\n      <td>1.0</td>\n      <td>25</td>\n      <td>6</td>\n      <td>2</td>\n      <td>...</td>\n      <td>8427.0</td>\n      <td>0.703</td>\n      <td>10294</td>\n      <td>61</td>\n      <td>0.649</td>\n      <td>0.189</td>\n      <td>0</td>\n      <td>1</td>\n      <td>0</td>\n      <td>0</td>\n    </tr>\n  </tbody>\n</table>\n<p>10127 rows × 23 columns</p>\n</div>"
     },
     "execution_count": 26,
     "metadata": {},
     "output_type": "execute_result"
    }
   ],
   "source": [
    "df = df.drop(columns=['CLIENTNUM'])\n",
    "df"
   ],
   "metadata": {
    "collapsed": false
   }
  },
  {
   "cell_type": "markdown",
   "source": [
    "## Scaling the data\n",
    "\n",
    "Because later, we will use different algorithms (also a neuron network), we need to convert all the attributes to a float64, and use MinMaxScaling."
   ],
   "metadata": {
    "collapsed": false
   }
  },
  {
   "cell_type": "code",
   "execution_count": 27,
   "outputs": [
    {
     "data": {
      "text/plain": "       Attrition_Flag  Customer_Age  Gender  Dependent_count  Education_Level  \\\n0                 1.0      0.404255     1.0              0.6         0.333333   \n1                 1.0      0.489362     0.0              1.0         0.666667   \n2                 1.0      0.531915     1.0              0.6         0.666667   \n3                 1.0      0.297872     0.0              0.8         0.333333   \n4                 1.0      0.297872     1.0              0.6         0.166667   \n...               ...           ...     ...              ...              ...   \n10122             1.0      0.510638     1.0              0.4         0.666667   \n10123             0.0      0.319149     1.0              0.4         0.000000   \n10124             0.0      0.382979     0.0              0.2         0.333333   \n10125             0.0      0.085106     1.0              0.4         0.666667   \n10126             0.0      0.361702     0.0              0.4         0.666667   \n\n       Income_Category  Card_Category  Months_on_book  \\\n0                  0.6       0.000000        0.604651   \n1                  0.2       0.000000        0.720930   \n2                  0.8       0.000000        0.534884   \n3                  0.2       0.000000        0.488372   \n4                  0.6       0.000000        0.186047   \n...                ...            ...             ...   \n10122              0.4       0.000000        0.627907   \n10123              0.4       0.000000        0.279070   \n10124              0.2       0.000000        0.534884   \n10125              0.4       0.000000        0.534884   \n10126              0.2       0.333333        0.279070   \n\n       Total_Relationship_Count  Months_Inactive_12_mon  ...  Avg_Open_To_Buy  \\\n0                           0.8                0.166667  ...         0.345116   \n1                           1.0                0.166667  ...         0.214093   \n2                           0.6                0.166667  ...         0.098948   \n3                           0.4                0.666667  ...         0.022977   \n4                           0.8                0.166667  ...         0.136557   \n...                         ...                     ...  ...              ...   \n10122                       0.4                0.333333  ...         0.062266   \n10123                       0.6                0.333333  ...         0.060499   \n10124                       0.8                0.500000  ...         0.156637   \n10125                       0.6                0.500000  ...         0.152928   \n10126                       1.0                0.333333  ...         0.244082   \n\n       Total_Amt_Chng_Q4_Q1  Total_Trans_Amt  Total_Trans_Ct  \\\n0                  0.392994         0.035273        0.248062   \n1                  0.453636         0.043452        0.178295   \n2                  0.763615         0.076611        0.077519   \n3                  0.413600         0.036775        0.077519   \n4                  0.640271         0.017025        0.139535   \n...                     ...              ...             ...   \n10122              0.206947         0.832647        0.829457   \n10123              0.236679         0.459219        0.457364   \n10124              0.241095         0.544175        0.387597   \n10125              0.157492         0.438689        0.403101   \n10126              0.206947         0.544342        0.395349   \n\n       Total_Ct_Chng_Q4_Q1  Avg_Utilization_Ratio  Marital_Status_Divorced  \\\n0                 0.437534               0.061061                      0.0   \n1                 1.000000               0.105105                      0.0   \n2                 0.628164               0.000000                      0.0   \n3                 0.628164               0.760761                      0.0   \n4                 0.673129               0.000000                      0.0   \n...                    ...                    ...                      ...   \n10122             0.230749               0.462462                      0.0   \n10123             0.183899               0.511512                      1.0   \n10124             0.220248               0.000000                      0.0   \n10125             0.194400               0.000000                      0.0   \n10126             0.174744               0.189189                      0.0   \n\n       Marital_Status_Married  Marital_Status_Single  Marital_Status_Unknown  \n0                         1.0                    0.0                     0.0  \n1                         0.0                    1.0                     0.0  \n2                         1.0                    0.0                     0.0  \n3                         0.0                    0.0                     1.0  \n4                         1.0                    0.0                     0.0  \n...                       ...                    ...                     ...  \n10122                     0.0                    1.0                     0.0  \n10123                     0.0                    0.0                     0.0  \n10124                     1.0                    0.0                     0.0  \n10125                     0.0                    0.0                     1.0  \n10126                     1.0                    0.0                     0.0  \n\n[10127 rows x 23 columns]",
      "text/html": "<div>\n<style scoped>\n    .dataframe tbody tr th:only-of-type {\n        vertical-align: middle;\n    }\n\n    .dataframe tbody tr th {\n        vertical-align: top;\n    }\n\n    .dataframe thead th {\n        text-align: right;\n    }\n</style>\n<table border=\"1\" class=\"dataframe\">\n  <thead>\n    <tr style=\"text-align: right;\">\n      <th></th>\n      <th>Attrition_Flag</th>\n      <th>Customer_Age</th>\n      <th>Gender</th>\n      <th>Dependent_count</th>\n      <th>Education_Level</th>\n      <th>Income_Category</th>\n      <th>Card_Category</th>\n      <th>Months_on_book</th>\n      <th>Total_Relationship_Count</th>\n      <th>Months_Inactive_12_mon</th>\n      <th>...</th>\n      <th>Avg_Open_To_Buy</th>\n      <th>Total_Amt_Chng_Q4_Q1</th>\n      <th>Total_Trans_Amt</th>\n      <th>Total_Trans_Ct</th>\n      <th>Total_Ct_Chng_Q4_Q1</th>\n      <th>Avg_Utilization_Ratio</th>\n      <th>Marital_Status_Divorced</th>\n      <th>Marital_Status_Married</th>\n      <th>Marital_Status_Single</th>\n      <th>Marital_Status_Unknown</th>\n    </tr>\n  </thead>\n  <tbody>\n    <tr>\n      <th>0</th>\n      <td>1.0</td>\n      <td>0.404255</td>\n      <td>1.0</td>\n      <td>0.6</td>\n      <td>0.333333</td>\n      <td>0.6</td>\n      <td>0.000000</td>\n      <td>0.604651</td>\n      <td>0.8</td>\n      <td>0.166667</td>\n      <td>...</td>\n      <td>0.345116</td>\n      <td>0.392994</td>\n      <td>0.035273</td>\n      <td>0.248062</td>\n      <td>0.437534</td>\n      <td>0.061061</td>\n      <td>0.0</td>\n      <td>1.0</td>\n      <td>0.0</td>\n      <td>0.0</td>\n    </tr>\n    <tr>\n      <th>1</th>\n      <td>1.0</td>\n      <td>0.489362</td>\n      <td>0.0</td>\n      <td>1.0</td>\n      <td>0.666667</td>\n      <td>0.2</td>\n      <td>0.000000</td>\n      <td>0.720930</td>\n      <td>1.0</td>\n      <td>0.166667</td>\n      <td>...</td>\n      <td>0.214093</td>\n      <td>0.453636</td>\n      <td>0.043452</td>\n      <td>0.178295</td>\n      <td>1.000000</td>\n      <td>0.105105</td>\n      <td>0.0</td>\n      <td>0.0</td>\n      <td>1.0</td>\n      <td>0.0</td>\n    </tr>\n    <tr>\n      <th>2</th>\n      <td>1.0</td>\n      <td>0.531915</td>\n      <td>1.0</td>\n      <td>0.6</td>\n      <td>0.666667</td>\n      <td>0.8</td>\n      <td>0.000000</td>\n      <td>0.534884</td>\n      <td>0.6</td>\n      <td>0.166667</td>\n      <td>...</td>\n      <td>0.098948</td>\n      <td>0.763615</td>\n      <td>0.076611</td>\n      <td>0.077519</td>\n      <td>0.628164</td>\n      <td>0.000000</td>\n      <td>0.0</td>\n      <td>1.0</td>\n      <td>0.0</td>\n      <td>0.0</td>\n    </tr>\n    <tr>\n      <th>3</th>\n      <td>1.0</td>\n      <td>0.297872</td>\n      <td>0.0</td>\n      <td>0.8</td>\n      <td>0.333333</td>\n      <td>0.2</td>\n      <td>0.000000</td>\n      <td>0.488372</td>\n      <td>0.4</td>\n      <td>0.666667</td>\n      <td>...</td>\n      <td>0.022977</td>\n      <td>0.413600</td>\n      <td>0.036775</td>\n      <td>0.077519</td>\n      <td>0.628164</td>\n      <td>0.760761</td>\n      <td>0.0</td>\n      <td>0.0</td>\n      <td>0.0</td>\n      <td>1.0</td>\n    </tr>\n    <tr>\n      <th>4</th>\n      <td>1.0</td>\n      <td>0.297872</td>\n      <td>1.0</td>\n      <td>0.6</td>\n      <td>0.166667</td>\n      <td>0.6</td>\n      <td>0.000000</td>\n      <td>0.186047</td>\n      <td>0.8</td>\n      <td>0.166667</td>\n      <td>...</td>\n      <td>0.136557</td>\n      <td>0.640271</td>\n      <td>0.017025</td>\n      <td>0.139535</td>\n      <td>0.673129</td>\n      <td>0.000000</td>\n      <td>0.0</td>\n      <td>1.0</td>\n      <td>0.0</td>\n      <td>0.0</td>\n    </tr>\n    <tr>\n      <th>...</th>\n      <td>...</td>\n      <td>...</td>\n      <td>...</td>\n      <td>...</td>\n      <td>...</td>\n      <td>...</td>\n      <td>...</td>\n      <td>...</td>\n      <td>...</td>\n      <td>...</td>\n      <td>...</td>\n      <td>...</td>\n      <td>...</td>\n      <td>...</td>\n      <td>...</td>\n      <td>...</td>\n      <td>...</td>\n      <td>...</td>\n      <td>...</td>\n      <td>...</td>\n      <td>...</td>\n    </tr>\n    <tr>\n      <th>10122</th>\n      <td>1.0</td>\n      <td>0.510638</td>\n      <td>1.0</td>\n      <td>0.4</td>\n      <td>0.666667</td>\n      <td>0.4</td>\n      <td>0.000000</td>\n      <td>0.627907</td>\n      <td>0.4</td>\n      <td>0.333333</td>\n      <td>...</td>\n      <td>0.062266</td>\n      <td>0.206947</td>\n      <td>0.832647</td>\n      <td>0.829457</td>\n      <td>0.230749</td>\n      <td>0.462462</td>\n      <td>0.0</td>\n      <td>0.0</td>\n      <td>1.0</td>\n      <td>0.0</td>\n    </tr>\n    <tr>\n      <th>10123</th>\n      <td>0.0</td>\n      <td>0.319149</td>\n      <td>1.0</td>\n      <td>0.4</td>\n      <td>0.000000</td>\n      <td>0.4</td>\n      <td>0.000000</td>\n      <td>0.279070</td>\n      <td>0.6</td>\n      <td>0.333333</td>\n      <td>...</td>\n      <td>0.060499</td>\n      <td>0.236679</td>\n      <td>0.459219</td>\n      <td>0.457364</td>\n      <td>0.183899</td>\n      <td>0.511512</td>\n      <td>1.0</td>\n      <td>0.0</td>\n      <td>0.0</td>\n      <td>0.0</td>\n    </tr>\n    <tr>\n      <th>10124</th>\n      <td>0.0</td>\n      <td>0.382979</td>\n      <td>0.0</td>\n      <td>0.2</td>\n      <td>0.333333</td>\n      <td>0.2</td>\n      <td>0.000000</td>\n      <td>0.534884</td>\n      <td>0.8</td>\n      <td>0.500000</td>\n      <td>...</td>\n      <td>0.156637</td>\n      <td>0.241095</td>\n      <td>0.544175</td>\n      <td>0.387597</td>\n      <td>0.220248</td>\n      <td>0.000000</td>\n      <td>0.0</td>\n      <td>1.0</td>\n      <td>0.0</td>\n      <td>0.0</td>\n    </tr>\n    <tr>\n      <th>10125</th>\n      <td>0.0</td>\n      <td>0.085106</td>\n      <td>1.0</td>\n      <td>0.4</td>\n      <td>0.666667</td>\n      <td>0.4</td>\n      <td>0.000000</td>\n      <td>0.534884</td>\n      <td>0.6</td>\n      <td>0.500000</td>\n      <td>...</td>\n      <td>0.152928</td>\n      <td>0.157492</td>\n      <td>0.438689</td>\n      <td>0.403101</td>\n      <td>0.194400</td>\n      <td>0.000000</td>\n      <td>0.0</td>\n      <td>0.0</td>\n      <td>0.0</td>\n      <td>1.0</td>\n    </tr>\n    <tr>\n      <th>10126</th>\n      <td>0.0</td>\n      <td>0.361702</td>\n      <td>0.0</td>\n      <td>0.4</td>\n      <td>0.666667</td>\n      <td>0.2</td>\n      <td>0.333333</td>\n      <td>0.279070</td>\n      <td>1.0</td>\n      <td>0.333333</td>\n      <td>...</td>\n      <td>0.244082</td>\n      <td>0.206947</td>\n      <td>0.544342</td>\n      <td>0.395349</td>\n      <td>0.174744</td>\n      <td>0.189189</td>\n      <td>0.0</td>\n      <td>1.0</td>\n      <td>0.0</td>\n      <td>0.0</td>\n    </tr>\n  </tbody>\n</table>\n<p>10127 rows × 23 columns</p>\n</div>"
     },
     "execution_count": 27,
     "metadata": {},
     "output_type": "execute_result"
    }
   ],
   "source": [
    "scaler = MinMaxScaler()\n",
    "df[df.columns] = scaler.fit_transform(df)\n",
    "df"
   ],
   "metadata": {
    "collapsed": false
   }
  },
  {
   "cell_type": "markdown",
   "source": [
    "## Let's split the data on input and output parts."
   ],
   "metadata": {
    "collapsed": false
   }
  },
  {
   "cell_type": "code",
   "execution_count": 28,
   "outputs": [
    {
     "data": {
      "text/plain": "   Customer_Age  Gender  Dependent_count  Education_Level  Income_Category  \\\n0      0.404255     1.0              0.6         0.333333              0.6   \n1      0.489362     0.0              1.0         0.666667              0.2   \n2      0.531915     1.0              0.6         0.666667              0.8   \n3      0.297872     0.0              0.8         0.333333              0.2   \n4      0.297872     1.0              0.6         0.166667              0.6   \n\n   Card_Category  Months_on_book  Total_Relationship_Count  \\\n0            0.0        0.604651                       0.8   \n1            0.0        0.720930                       1.0   \n2            0.0        0.534884                       0.6   \n3            0.0        0.488372                       0.4   \n4            0.0        0.186047                       0.8   \n\n   Months_Inactive_12_mon  Contacts_Count_12_mon  ...  Avg_Open_To_Buy  \\\n0                0.166667               0.500000  ...         0.345116   \n1                0.166667               0.333333  ...         0.214093   \n2                0.166667               0.000000  ...         0.098948   \n3                0.666667               0.166667  ...         0.022977   \n4                0.166667               0.000000  ...         0.136557   \n\n   Total_Amt_Chng_Q4_Q1  Total_Trans_Amt  Total_Trans_Ct  Total_Ct_Chng_Q4_Q1  \\\n0              0.392994         0.035273        0.248062             0.437534   \n1              0.453636         0.043452        0.178295             1.000000   \n2              0.763615         0.076611        0.077519             0.628164   \n3              0.413600         0.036775        0.077519             0.628164   \n4              0.640271         0.017025        0.139535             0.673129   \n\n   Avg_Utilization_Ratio  Marital_Status_Divorced  Marital_Status_Married  \\\n0               0.061061                      0.0                     1.0   \n1               0.105105                      0.0                     0.0   \n2               0.000000                      0.0                     1.0   \n3               0.760761                      0.0                     0.0   \n4               0.000000                      0.0                     1.0   \n\n   Marital_Status_Single  Marital_Status_Unknown  \n0                    0.0                     0.0  \n1                    1.0                     0.0  \n2                    0.0                     0.0  \n3                    0.0                     1.0  \n4                    0.0                     0.0  \n\n[5 rows x 22 columns]",
      "text/html": "<div>\n<style scoped>\n    .dataframe tbody tr th:only-of-type {\n        vertical-align: middle;\n    }\n\n    .dataframe tbody tr th {\n        vertical-align: top;\n    }\n\n    .dataframe thead th {\n        text-align: right;\n    }\n</style>\n<table border=\"1\" class=\"dataframe\">\n  <thead>\n    <tr style=\"text-align: right;\">\n      <th></th>\n      <th>Customer_Age</th>\n      <th>Gender</th>\n      <th>Dependent_count</th>\n      <th>Education_Level</th>\n      <th>Income_Category</th>\n      <th>Card_Category</th>\n      <th>Months_on_book</th>\n      <th>Total_Relationship_Count</th>\n      <th>Months_Inactive_12_mon</th>\n      <th>Contacts_Count_12_mon</th>\n      <th>...</th>\n      <th>Avg_Open_To_Buy</th>\n      <th>Total_Amt_Chng_Q4_Q1</th>\n      <th>Total_Trans_Amt</th>\n      <th>Total_Trans_Ct</th>\n      <th>Total_Ct_Chng_Q4_Q1</th>\n      <th>Avg_Utilization_Ratio</th>\n      <th>Marital_Status_Divorced</th>\n      <th>Marital_Status_Married</th>\n      <th>Marital_Status_Single</th>\n      <th>Marital_Status_Unknown</th>\n    </tr>\n  </thead>\n  <tbody>\n    <tr>\n      <th>0</th>\n      <td>0.404255</td>\n      <td>1.0</td>\n      <td>0.6</td>\n      <td>0.333333</td>\n      <td>0.6</td>\n      <td>0.0</td>\n      <td>0.604651</td>\n      <td>0.8</td>\n      <td>0.166667</td>\n      <td>0.500000</td>\n      <td>...</td>\n      <td>0.345116</td>\n      <td>0.392994</td>\n      <td>0.035273</td>\n      <td>0.248062</td>\n      <td>0.437534</td>\n      <td>0.061061</td>\n      <td>0.0</td>\n      <td>1.0</td>\n      <td>0.0</td>\n      <td>0.0</td>\n    </tr>\n    <tr>\n      <th>1</th>\n      <td>0.489362</td>\n      <td>0.0</td>\n      <td>1.0</td>\n      <td>0.666667</td>\n      <td>0.2</td>\n      <td>0.0</td>\n      <td>0.720930</td>\n      <td>1.0</td>\n      <td>0.166667</td>\n      <td>0.333333</td>\n      <td>...</td>\n      <td>0.214093</td>\n      <td>0.453636</td>\n      <td>0.043452</td>\n      <td>0.178295</td>\n      <td>1.000000</td>\n      <td>0.105105</td>\n      <td>0.0</td>\n      <td>0.0</td>\n      <td>1.0</td>\n      <td>0.0</td>\n    </tr>\n    <tr>\n      <th>2</th>\n      <td>0.531915</td>\n      <td>1.0</td>\n      <td>0.6</td>\n      <td>0.666667</td>\n      <td>0.8</td>\n      <td>0.0</td>\n      <td>0.534884</td>\n      <td>0.6</td>\n      <td>0.166667</td>\n      <td>0.000000</td>\n      <td>...</td>\n      <td>0.098948</td>\n      <td>0.763615</td>\n      <td>0.076611</td>\n      <td>0.077519</td>\n      <td>0.628164</td>\n      <td>0.000000</td>\n      <td>0.0</td>\n      <td>1.0</td>\n      <td>0.0</td>\n      <td>0.0</td>\n    </tr>\n    <tr>\n      <th>3</th>\n      <td>0.297872</td>\n      <td>0.0</td>\n      <td>0.8</td>\n      <td>0.333333</td>\n      <td>0.2</td>\n      <td>0.0</td>\n      <td>0.488372</td>\n      <td>0.4</td>\n      <td>0.666667</td>\n      <td>0.166667</td>\n      <td>...</td>\n      <td>0.022977</td>\n      <td>0.413600</td>\n      <td>0.036775</td>\n      <td>0.077519</td>\n      <td>0.628164</td>\n      <td>0.760761</td>\n      <td>0.0</td>\n      <td>0.0</td>\n      <td>0.0</td>\n      <td>1.0</td>\n    </tr>\n    <tr>\n      <th>4</th>\n      <td>0.297872</td>\n      <td>1.0</td>\n      <td>0.6</td>\n      <td>0.166667</td>\n      <td>0.6</td>\n      <td>0.0</td>\n      <td>0.186047</td>\n      <td>0.8</td>\n      <td>0.166667</td>\n      <td>0.000000</td>\n      <td>...</td>\n      <td>0.136557</td>\n      <td>0.640271</td>\n      <td>0.017025</td>\n      <td>0.139535</td>\n      <td>0.673129</td>\n      <td>0.000000</td>\n      <td>0.0</td>\n      <td>1.0</td>\n      <td>0.0</td>\n      <td>0.0</td>\n    </tr>\n  </tbody>\n</table>\n<p>5 rows × 22 columns</p>\n</div>"
     },
     "execution_count": 28,
     "metadata": {},
     "output_type": "execute_result"
    }
   ],
   "source": [
    "X,y = df.loc[:,(df.columns != 'Attrition_Flag')],df.Attrition_Flag\n",
    "X.head()"
   ],
   "metadata": {
    "collapsed": false
   }
  },
  {
   "cell_type": "code",
   "execution_count": 30,
   "outputs": [
    {
     "data": {
      "text/plain": "0    1.0\n1    1.0\n2    1.0\n3    1.0\n4    1.0\nName: Attrition_Flag, dtype: float64"
     },
     "execution_count": 30,
     "metadata": {},
     "output_type": "execute_result"
    }
   ],
   "source": [
    "y.head()"
   ],
   "metadata": {
    "collapsed": false
   }
  },
  {
   "cell_type": "markdown",
   "source": [
    "## Different classifiers"
   ],
   "metadata": {
    "collapsed": false
   }
  },
  {
   "cell_type": "markdown",
   "source": [
    "### Decision tree\n",
    "\n",
    "Because we have quite a lot of data (around 10000), we will use 10-fold validation"
   ],
   "metadata": {
    "collapsed": false
   }
  },
  {
   "cell_type": "markdown",
   "source": [
    "In the first case, we will use default decision tree settings, including minimum_sample_leaf = 2"
   ],
   "metadata": {
    "collapsed": false
   }
  },
  {
   "cell_type": "code",
   "execution_count": 226,
   "outputs": [
    {
     "name": "stdout",
     "output_type": "stream",
     "text": [
      "Cheaper ratio in train set: 0.84; More expensive ratio in test set: 0.84\n",
      "Cheaper ratio in train set: 0.84; More expensive ratio in test set: 0.84\n",
      "Cheaper ratio in train set: 0.84; More expensive ratio in test set: 0.84\n",
      "Cheaper ratio in train set: 0.84; More expensive ratio in test set: 0.84\n",
      "Cheaper ratio in train set: 0.84; More expensive ratio in test set: 0.84\n",
      "Cheaper ratio in train set: 0.84; More expensive ratio in test set: 0.84\n",
      "Cheaper ratio in train set: 0.84; More expensive ratio in test set: 0.84\n",
      "Cheaper ratio in train set: 0.84; More expensive ratio in test set: 0.84\n",
      "Cheaper ratio in train set: 0.84; More expensive ratio in test set: 0.84\n",
      "Cheaper ratio in train set: 0.84; More expensive ratio in test set: 0.84\n"
     ]
    },
    {
     "data": {
      "text/plain": "[0.8529121421520237,\n 0.8746298124383021,\n 0.8973346495557749,\n 0.9378084896347483,\n 0.9496544916090819,\n 0.9526159921026653,\n 0.9575518262586377,\n 0.9614624505928854,\n 0.8468379446640316,\n 0.8656126482213439]"
     },
     "execution_count": 226,
     "metadata": {},
     "output_type": "execute_result"
    }
   ],
   "source": [
    "skf = StratifiedKFold(n_splits=10)\n",
    "scores = list()\n",
    "for train_index, test_index in skf.split(X, y):\n",
    "    X_train, X_test = X.iloc[train_index, :], X.iloc[test_index, :]\n",
    "    y_train, y_test = y.iloc[train_index], y.iloc[test_index]\n",
    "    clf = DecisionTreeClassifier()\n",
    "    clf.fit(X_train, y_train)\n",
    "    y_pred = clf.predict(X_test)\n",
    "    scores.append(accuracy_score(y_test, y_pred))\n",
    "    print(f'Cheaper ratio in train set: {y_train.value_counts(normalize=True)[1]:.2}; More expensive ratio in test set: {y_test.value_counts(normalize=True)[1]:.2}')\n",
    "scores"
   ],
   "metadata": {
    "collapsed": false
   }
  },
  {
   "cell_type": "code",
   "execution_count": 227,
   "outputs": [
    {
     "data": {
      "text/plain": "(0.9096420447229494, 0.8468379446640316, 0.9614624505928854)"
     },
     "execution_count": 227,
     "metadata": {},
     "output_type": "execute_result"
    }
   ],
   "source": [
    "np.mean(scores), np.min(scores), np.max(scores)"
   ],
   "metadata": {
    "collapsed": false
   }
  },
  {
   "cell_type": "markdown",
   "source": [
    "Now, we will set minimum_sample_leaf to 10, to make the model less specified on training data."
   ],
   "metadata": {
    "collapsed": false
   }
  },
  {
   "cell_type": "code",
   "execution_count": 236,
   "outputs": [
    {
     "name": "stdout",
     "output_type": "stream",
     "text": [
      "Cheaper ratio in train set: 0.84; More expensive ratio in test set: 0.84\n",
      "Cheaper ratio in train set: 0.84; More expensive ratio in test set: 0.84\n",
      "Cheaper ratio in train set: 0.84; More expensive ratio in test set: 0.84\n",
      "Cheaper ratio in train set: 0.84; More expensive ratio in test set: 0.84\n",
      "Cheaper ratio in train set: 0.84; More expensive ratio in test set: 0.84\n",
      "Cheaper ratio in train set: 0.84; More expensive ratio in test set: 0.84\n",
      "Cheaper ratio in train set: 0.84; More expensive ratio in test set: 0.84\n",
      "Cheaper ratio in train set: 0.84; More expensive ratio in test set: 0.84\n",
      "Cheaper ratio in train set: 0.84; More expensive ratio in test set: 0.84\n",
      "Cheaper ratio in train set: 0.84; More expensive ratio in test set: 0.84\n"
     ]
    },
    {
     "data": {
      "text/plain": "[0.8538993089832182,\n 0.8815399802566634,\n 0.9190523198420533,\n 0.9378084896347483,\n 0.9526159921026653,\n 0.9585389930898321,\n 0.9654491609081934,\n 0.9594861660079052,\n 0.8191699604743083,\n 0.892292490118577]"
     },
     "execution_count": 236,
     "metadata": {},
     "output_type": "execute_result"
    }
   ],
   "source": [
    "skf = StratifiedKFold(n_splits=10)\n",
    "scores = list()\n",
    "for train_index, test_index in skf.split(X, y):\n",
    "    X_train, X_test = X.iloc[train_index, :], X.iloc[test_index, :]\n",
    "    y_train, y_test = y.iloc[train_index], y.iloc[test_index]\n",
    "    clf = DecisionTreeClassifier(min_samples_leaf=10)\n",
    "    clf.fit(X_train, y_train)\n",
    "    y_pred = clf.predict(X_test)\n",
    "    scores.append(accuracy_score(y_test, y_pred))\n",
    "    print(f'Cheaper ratio in train set: {y_train.value_counts(normalize=True)[1]:.2}; More expensive ratio in test set: {y_test.value_counts(normalize=True)[1]:.2}')\n",
    "scores"
   ],
   "metadata": {
    "collapsed": false
   }
  },
  {
   "cell_type": "code",
   "execution_count": 237,
   "outputs": [
    {
     "data": {
      "text/plain": "(0.9139852861418165, 0.8191699604743083, 0.9654491609081934)"
     },
     "execution_count": 237,
     "metadata": {},
     "output_type": "execute_result"
    }
   ],
   "source": [
    "np.mean(scores), np.min(scores), np.max(scores)"
   ],
   "metadata": {
    "collapsed": false
   }
  },
  {
   "cell_type": "code",
   "execution_count": 250,
   "outputs": [
    {
     "name": "stdout",
     "output_type": "stream",
     "text": [
      "Minimal leaf count = 5, score(mean, min, max): (0.9082614743512207, 0.8152173913043478, 0.9664031620553359)\n",
      "Minimal leaf count = 10, score(mean, min, max): (0.9111726898150134, 0.8152173913043478, 0.9664363277393879)\n",
      "Minimal leaf count = 15, score(mean, min, max): (0.9128347620589776, 0.8152173913043478, 0.9664363277393879)\n",
      "Minimal leaf count = 20, score(mean, min, max): (0.9138142146170924, 0.8152173913043478, 0.9664363277393879)\n",
      "Minimal leaf count = 25, score(mean, min, max): (0.9145601059741151, 0.8152173913043478, 0.9683794466403162)\n",
      "Minimal leaf count = 30, score(mean, min, max): (0.9155020634257941, 0.8152173913043478, 0.9683794466403162)\n",
      "Minimal leaf count = 35, score(mean, min, max): (0.9158223305944239, 0.8152173913043478, 0.9683794466403162)\n",
      "Minimal leaf count = 40, score(mean, min, max): (0.9160748217832213, 0.8152173913043478, 0.9683794466403162)\n",
      "Minimal leaf count = 45, score(mean, min, max): (0.9164467109829572, 0.8152173913043478, 0.9683794466403162)\n",
      "Minimal leaf count = 50, score(mean, min, max): (0.916882445208339, 0.8152173913043478, 0.9683794466403162)\n",
      "Minimal leaf count = 55, score(mean, min, max): (0.9169607268640977, 0.8152173913043478, 0.9683794466403162)\n",
      "Minimal leaf count = 60, score(mean, min, max): (0.9168613931278102, 0.8152173913043478, 0.9683794466403162)\n",
      "Minimal leaf count = 65, score(mean, min, max): (0.9171191656534375, 0.8152173913043478, 0.9683794466403162)\n",
      "Minimal leaf count = 70, score(mean, min, max): (0.9173895485174939, 0.8152173913043478, 0.9683794466403162)\n",
      "Minimal leaf count = 75, score(mean, min, max): (0.9174527649125271, 0.8152173913043478, 0.9683794466403162)\n",
      "Minimal leaf count = 80, score(mean, min, max): (0.9174402115385366, 0.8152173913043478, 0.9683794466403162)\n",
      "Minimal leaf count = 85, score(mean, min, max): (0.9174581693506388, 0.8152173913043478, 0.9683794466403162)\n",
      "Minimal leaf count = 90, score(mean, min, max): (0.917463206683774, 0.8152173913043478, 0.9693675889328063)\n",
      "Minimal leaf count = 95, score(mean, min, max): (0.917368986820183, 0.8152173913043478, 0.9693675889328063)\n",
      "Best result: minimal count in leaf = 90, mean of precision score = 0.917463206683774\n"
     ]
    }
   ],
   "source": [
    "skf = StratifiedKFold(n_splits=10)\n",
    "scores = list()\n",
    "best_score_index = (0,0)\n",
    "\n",
    "for i in range(5,100,5):\n",
    "    for train_index, test_index in skf.split(X, y):\n",
    "        X_train, X_test = X.iloc[train_index, :], X.iloc[test_index, :]\n",
    "        y_train, y_test = y.iloc[train_index], y.iloc[test_index]\n",
    "        clf = DecisionTreeClassifier(min_samples_leaf=i)\n",
    "        clf.fit(X_train, y_train)\n",
    "        y_pred = clf.predict(X_test)\n",
    "        scores.append(accuracy_score(y_test, y_pred))\n",
    "    print(f'Minimal leaf count = {i}, score(mean, min, max): {np.mean(scores), np.min(scores), np.max(scores)}')\n",
    "    if np.mean(scores) >= best_score_index[1]:\n",
    "            best_score_index = (i, np.mean(scores))\n",
    "\n",
    "print(f'Best result: minimal count in leaf = {best_score_index[0]}, mean of precision score = {best_score_index[1]}')"
   ],
   "metadata": {
    "collapsed": false
   }
  },
  {
   "cell_type": "code",
   "execution_count": 249,
   "outputs": [
    {
     "name": "stdout",
     "output_type": "stream",
     "text": [
      "Minimal leaf count = 5, score(mean, min, max): (0.9107308546211504, 0.8361303060217177, 0.9684106614017769)\n",
      "Minimal leaf count = 10, score(mean, min, max): (0.9130024601133874, 0.8361303060217177, 0.9713721618953604)\n",
      "Minimal leaf count = 15, score(mean, min, max): (0.9150431414015687, 0.8241106719367589, 0.9713721618953604)\n",
      "Minimal leaf count = 20, score(mean, min, max): (0.9175702527225125, 0.8241106719367589, 0.9713721618953604)\n",
      "Minimal leaf count = 25, score(mean, min, max): (0.9190668932338103, 0.8241106719367589, 0.9713721618953604)\n",
      "Minimal leaf count = 30, score(mean, min, max): (0.918945067872597, 0.8241106719367589, 0.9713721618953604)\n",
      "Minimal leaf count = 35, score(mean, min, max): (0.9185901184098532, 0.8241106719367589, 0.9713721618953604)\n",
      "Minimal leaf count = 40, score(mean, min, max): (0.9166319443089638, 0.7559288537549407, 0.9713721618953604)\n",
      "Minimal leaf count = 45, score(mean, min, max): (0.9151088874928953, 0.7559288537549407, 0.9713721618953604)\n",
      "Minimal leaf count = 50, score(mean, min, max): (0.913831212030169, 0.7559288537549407, 0.9713721618953604)\n",
      "Minimal leaf count = 55, score(mean, min, max): (0.9125255792555208, 0.7559288537549407, 0.9713721618953604)\n",
      "Minimal leaf count = 60, score(mean, min, max): (0.9116596726091769, 0.7559288537549407, 0.9713721618953604)\n",
      "Minimal leaf count = 65, score(mean, min, max): (0.9110258566275993, 0.7559288537549407, 0.9713721618953604)\n",
      "Minimal leaf count = 70, score(mean, min, max): (0.9103556504013605, 0.7559288537549407, 0.9713721618953604)\n",
      "Minimal leaf count = 75, score(mean, min, max): (0.9093399638689134, 0.7559288537549407, 0.9713721618953604)\n",
      "Minimal leaf count = 80, score(mean, min, max): (0.9084203891895477, 0.7559288537549407, 0.9713721618953604)\n",
      "Minimal leaf count = 85, score(mean, min, max): (0.9075277036745971, 0.7559288537549407, 0.9713721618953604)\n",
      "Minimal leaf count = 90, score(mean, min, max): (0.9068164693416848, 0.7559288537549407, 0.9713721618953604)\n",
      "Minimal leaf count = 95, score(mean, min, max): (0.9062164659509586, 0.7559288537549407, 0.9713721618953604)\n",
      "Best result: minimal count in leaf = 25, mean of precision score = 0.9190668932338103\n"
     ]
    }
   ],
   "source": [
    "skf = StratifiedKFold(n_splits=10)\n",
    "scores = list()\n",
    "best_score_index = (0,0)\n",
    "\n",
    "for i in range(5,100,5):\n",
    "    for train_index, test_index in skf.split(X, y):\n",
    "        X_train, X_test = X.iloc[train_index, :], X.iloc[test_index, :]\n",
    "        y_train, y_test = y.iloc[train_index], y.iloc[test_index]\n",
    "        clf = DecisionTreeClassifier(min_samples_leaf=i, criterion='entropy')\n",
    "        clf.fit(X_train, y_train)\n",
    "        y_pred = clf.predict(X_test)\n",
    "        scores.append(accuracy_score(y_test, y_pred))\n",
    "    print(f'Minimal leaf count = {i}, score(mean, min, max): {np.mean(scores), np.min(scores), np.max(scores)}')\n",
    "    if np.mean(scores) >= best_score_index[1]:\n",
    "            best_score_index = (i, np.mean(scores))\n",
    "\n",
    "print(f'Best result: minimal count in leaf = {best_score_index[0]}, mean of precision score = {best_score_index[1]}')"
   ],
   "metadata": {
    "collapsed": false
   }
  },
  {
   "cell_type": "markdown",
   "source": [
    "#### Decision tree summary\n",
    "\n",
    "Due to the fact that construction of the decision tree is fast and \"cheap\" operation, we were able to try different numbers of minimal sample count in leafs, for both gini index and entropy. As a result, we see that we get the best result for entropy split measurement and minimal sample count in leafs 25. Now, we could generate one decision tree with given parameters and visualize result."
   ],
   "metadata": {
    "collapsed": false
   }
  },
  {
   "cell_type": "code",
   "execution_count": 259,
   "outputs": [
    {
     "data": {
      "text/plain": "DecisionTreeClassifier(criterion='entropy', min_samples_leaf=25)"
     },
     "execution_count": 259,
     "metadata": {},
     "output_type": "execute_result"
    }
   ],
   "source": [
    "(X_train, X_test, y_train, y_test) = train_test_split(X,y, test_size=0.3, random_state=43, stratify=y)\n",
    "decision_tree = DecisionTreeClassifier(min_samples_leaf=25, criterion='entropy')\n",
    "decision_tree.fit(X_train, y_train)"
   ],
   "metadata": {
    "collapsed": false
   }
  },
  {
   "cell_type": "code",
   "execution_count": 263,
   "outputs": [
    {
     "data": {
      "text/plain": "array([1., 1., 0., ..., 1., 1., 1.])"
     },
     "execution_count": 263,
     "metadata": {},
     "output_type": "execute_result"
    }
   ],
   "source": [
    "y_predict = decision_tree.predict(X_test)\n",
    "y_predict"
   ],
   "metadata": {
    "collapsed": false
   }
  },
  {
   "cell_type": "code",
   "execution_count": 265,
   "outputs": [
    {
     "data": {
      "text/plain": "0.9410990457387298"
     },
     "execution_count": 265,
     "metadata": {},
     "output_type": "execute_result"
    }
   ],
   "source": [
    "accuracy_score(y_test, y_predict)"
   ],
   "metadata": {
    "collapsed": false
   }
  },
  {
   "cell_type": "code",
   "execution_count": 270,
   "outputs": [
    {
     "name": "stdout",
     "output_type": "stream",
     "text": [
      "|--- Total_Trans_Ct <= 0.37\n",
      "|   |--- Total_Revolving_Bal <= 0.26\n",
      "|   |   |--- Total_Ct_Chng_Q4_Q1 <= 0.16\n",
      "|   |   |   |--- Months_Inactive_12_mon <= 0.25\n",
      "|   |   |   |   |--- Total_Trans_Amt <= 0.08\n",
      "|   |   |   |   |   |--- weights: [16.00, 26.00] class: 1.0\n",
      "|   |   |   |   |--- Total_Trans_Amt >  0.08\n",
      "|   |   |   |   |   |--- weights: [18.00, 7.00] class: 0.0\n",
      "|   |   |   |--- Months_Inactive_12_mon >  0.25\n",
      "|   |   |   |   |--- Total_Trans_Amt <= 0.08\n",
      "|   |   |   |   |   |--- Total_Relationship_Count <= 0.50\n",
      "|   |   |   |   |   |   |--- Avg_Open_To_Buy <= 0.11\n",
      "|   |   |   |   |   |   |   |--- weights: [45.00, 0.00] class: 0.0\n",
      "|   |   |   |   |   |   |--- Avg_Open_To_Buy >  0.11\n",
      "|   |   |   |   |   |   |   |--- Total_Relationship_Count <= 0.30\n",
      "|   |   |   |   |   |   |   |   |--- weights: [26.00, 2.00] class: 0.0\n",
      "|   |   |   |   |   |   |   |--- Total_Relationship_Count >  0.30\n",
      "|   |   |   |   |   |   |   |   |--- weights: [24.00, 10.00] class: 0.0\n",
      "|   |   |   |   |   |--- Total_Relationship_Count >  0.50\n",
      "|   |   |   |   |   |   |--- Total_Amt_Chng_Q4_Q1 <= 0.16\n",
      "|   |   |   |   |   |   |   |--- weights: [19.00, 8.00] class: 0.0\n",
      "|   |   |   |   |   |   |--- Total_Amt_Chng_Q4_Q1 >  0.16\n",
      "|   |   |   |   |   |   |   |--- weights: [13.00, 19.00] class: 1.0\n",
      "|   |   |   |   |--- Total_Trans_Amt >  0.08\n",
      "|   |   |   |   |   |--- Customer_Age <= 0.22\n",
      "|   |   |   |   |   |   |--- weights: [17.00, 10.00] class: 0.0\n",
      "|   |   |   |   |   |--- Customer_Age >  0.22\n",
      "|   |   |   |   |   |   |--- Total_Trans_Ct <= 0.31\n",
      "|   |   |   |   |   |   |   |--- Credit_Limit <= 0.00\n",
      "|   |   |   |   |   |   |   |   |--- weights: [23.00, 2.00] class: 0.0\n",
      "|   |   |   |   |   |   |   |--- Credit_Limit >  0.00\n",
      "|   |   |   |   |   |   |   |   |--- Avg_Open_To_Buy <= 0.38\n",
      "|   |   |   |   |   |   |   |   |   |--- weights: [201.00, 0.00] class: 0.0\n",
      "|   |   |   |   |   |   |   |   |--- Avg_Open_To_Buy >  0.38\n",
      "|   |   |   |   |   |   |   |   |   |--- weights: [24.00, 1.00] class: 0.0\n",
      "|   |   |   |   |   |   |--- Total_Trans_Ct >  0.31\n",
      "|   |   |   |   |   |   |   |--- weights: [28.00, 6.00] class: 0.0\n",
      "|   |   |--- Total_Ct_Chng_Q4_Q1 >  0.16\n",
      "|   |   |   |--- Total_Relationship_Count <= 0.30\n",
      "|   |   |   |   |--- Total_Ct_Chng_Q4_Q1 <= 0.20\n",
      "|   |   |   |   |   |--- weights: [31.00, 0.00] class: 0.0\n",
      "|   |   |   |   |--- Total_Ct_Chng_Q4_Q1 >  0.20\n",
      "|   |   |   |   |   |--- weights: [21.00, 4.00] class: 0.0\n",
      "|   |   |   |--- Total_Relationship_Count >  0.30\n",
      "|   |   |   |   |--- Total_Trans_Amt <= 0.08\n",
      "|   |   |   |   |   |--- Total_Trans_Amt <= 0.04\n",
      "|   |   |   |   |   |   |--- weights: [11.00, 14.00] class: 1.0\n",
      "|   |   |   |   |   |--- Total_Trans_Amt >  0.04\n",
      "|   |   |   |   |   |   |--- Total_Ct_Chng_Q4_Q1 <= 0.21\n",
      "|   |   |   |   |   |   |   |--- Total_Trans_Amt <= 0.06\n",
      "|   |   |   |   |   |   |   |   |--- weights: [1.00, 28.00] class: 1.0\n",
      "|   |   |   |   |   |   |   |--- Total_Trans_Amt >  0.06\n",
      "|   |   |   |   |   |   |   |   |--- weights: [6.00, 19.00] class: 1.0\n",
      "|   |   |   |   |   |   |--- Total_Ct_Chng_Q4_Q1 >  0.21\n",
      "|   |   |   |   |   |   |   |--- weights: [0.00, 46.00] class: 1.0\n",
      "|   |   |   |   |--- Total_Trans_Amt >  0.08\n",
      "|   |   |   |   |   |--- Total_Trans_Amt <= 0.15\n",
      "|   |   |   |   |   |   |--- Total_Amt_Chng_Q4_Q1 <= 0.29\n",
      "|   |   |   |   |   |   |   |--- Total_Trans_Ct <= 0.30\n",
      "|   |   |   |   |   |   |   |   |--- Months_on_book <= 0.52\n",
      "|   |   |   |   |   |   |   |   |   |--- weights: [23.00, 2.00] class: 0.0\n",
      "|   |   |   |   |   |   |   |   |--- Months_on_book >  0.52\n",
      "|   |   |   |   |   |   |   |   |   |--- weights: [26.00, 0.00] class: 0.0\n",
      "|   |   |   |   |   |   |   |--- Total_Trans_Ct >  0.30\n",
      "|   |   |   |   |   |   |   |   |--- weights: [26.00, 19.00] class: 0.0\n",
      "|   |   |   |   |   |   |--- Total_Amt_Chng_Q4_Q1 >  0.29\n",
      "|   |   |   |   |   |   |   |--- weights: [5.00, 20.00] class: 1.0\n",
      "|   |   |   |   |   |--- Total_Trans_Amt >  0.15\n",
      "|   |   |   |   |   |   |--- weights: [2.00, 28.00] class: 1.0\n",
      "|   |--- Total_Revolving_Bal >  0.26\n",
      "|   |   |--- Total_Relationship_Count <= 0.30\n",
      "|   |   |   |--- Total_Ct_Chng_Q4_Q1 <= 0.19\n",
      "|   |   |   |   |--- Contacts_Count_12_mon <= 0.42\n",
      "|   |   |   |   |   |--- weights: [32.00, 5.00] class: 0.0\n",
      "|   |   |   |   |--- Contacts_Count_12_mon >  0.42\n",
      "|   |   |   |   |   |--- Avg_Open_To_Buy <= 0.03\n",
      "|   |   |   |   |   |   |--- weights: [24.00, 1.00] class: 0.0\n",
      "|   |   |   |   |   |--- Avg_Open_To_Buy >  0.03\n",
      "|   |   |   |   |   |   |--- weights: [46.00, 0.00] class: 0.0\n",
      "|   |   |   |--- Total_Ct_Chng_Q4_Q1 >  0.19\n",
      "|   |   |   |   |--- Total_Trans_Amt <= 0.07\n",
      "|   |   |   |   |   |--- weights: [5.00, 20.00] class: 1.0\n",
      "|   |   |   |   |--- Total_Trans_Amt >  0.07\n",
      "|   |   |   |   |   |--- weights: [19.00, 8.00] class: 0.0\n",
      "|   |   |--- Total_Relationship_Count >  0.30\n",
      "|   |   |   |--- Total_Trans_Amt <= 0.09\n",
      "|   |   |   |   |--- Total_Trans_Amt <= 0.03\n",
      "|   |   |   |   |   |--- weights: [18.00, 18.00] class: 0.0\n",
      "|   |   |   |   |--- Total_Trans_Amt >  0.03\n",
      "|   |   |   |   |   |--- Total_Amt_Chng_Q4_Q1 <= 0.12\n",
      "|   |   |   |   |   |   |--- Customer_Age <= 0.54\n",
      "|   |   |   |   |   |   |   |--- weights: [15.00, 10.00] class: 0.0\n",
      "|   |   |   |   |   |   |--- Customer_Age >  0.54\n",
      "|   |   |   |   |   |   |   |--- weights: [1.00, 27.00] class: 1.0\n",
      "|   |   |   |   |   |--- Total_Amt_Chng_Q4_Q1 >  0.12\n",
      "|   |   |   |   |   |   |--- Total_Ct_Chng_Q4_Q1 <= 0.20\n",
      "|   |   |   |   |   |   |   |--- Total_Trans_Amt <= 0.08\n",
      "|   |   |   |   |   |   |   |   |--- Total_Revolving_Bal <= 1.00\n",
      "|   |   |   |   |   |   |   |   |   |--- Total_Amt_Chng_Q4_Q1 <= 0.15\n",
      "|   |   |   |   |   |   |   |   |   |   |--- Total_Trans_Amt <= 0.06\n",
      "|   |   |   |   |   |   |   |   |   |   |   |--- truncated branch of depth 2\n",
      "|   |   |   |   |   |   |   |   |   |   |--- Total_Trans_Amt >  0.06\n",
      "|   |   |   |   |   |   |   |   |   |   |   |--- weights: [6.00, 26.00] class: 1.0\n",
      "|   |   |   |   |   |   |   |   |   |--- Total_Amt_Chng_Q4_Q1 >  0.15\n",
      "|   |   |   |   |   |   |   |   |   |   |--- Avg_Utilization_Ratio <= 0.18\n",
      "|   |   |   |   |   |   |   |   |   |   |   |--- truncated branch of depth 3\n",
      "|   |   |   |   |   |   |   |   |   |   |--- Avg_Utilization_Ratio >  0.18\n",
      "|   |   |   |   |   |   |   |   |   |   |   |--- weights: [0.00, 272.00] class: 1.0\n",
      "|   |   |   |   |   |   |   |   |--- Total_Revolving_Bal >  1.00\n",
      "|   |   |   |   |   |   |   |   |   |--- weights: [7.00, 35.00] class: 1.0\n",
      "|   |   |   |   |   |   |   |--- Total_Trans_Amt >  0.08\n",
      "|   |   |   |   |   |   |   |   |--- Total_Amt_Chng_Q4_Q1 <= 0.22\n",
      "|   |   |   |   |   |   |   |   |   |--- weights: [12.00, 36.00] class: 1.0\n",
      "|   |   |   |   |   |   |   |   |--- Total_Amt_Chng_Q4_Q1 >  0.22\n",
      "|   |   |   |   |   |   |   |   |   |--- weights: [0.00, 29.00] class: 1.0\n",
      "|   |   |   |   |   |   |--- Total_Ct_Chng_Q4_Q1 >  0.20\n",
      "|   |   |   |   |   |   |   |--- Income_Category <= 0.10\n",
      "|   |   |   |   |   |   |   |   |--- weights: [1.00, 28.00] class: 1.0\n",
      "|   |   |   |   |   |   |   |--- Income_Category >  0.10\n",
      "|   |   |   |   |   |   |   |   |--- weights: [0.00, 388.00] class: 1.0\n",
      "|   |   |   |--- Total_Trans_Amt >  0.09\n",
      "|   |   |   |   |--- Total_Ct_Chng_Q4_Q1 <= 0.17\n",
      "|   |   |   |   |   |--- Customer_Age <= 0.24\n",
      "|   |   |   |   |   |   |--- Months_on_book <= 0.26\n",
      "|   |   |   |   |   |   |   |--- weights: [0.00, 27.00] class: 1.0\n",
      "|   |   |   |   |   |   |--- Months_on_book >  0.26\n",
      "|   |   |   |   |   |   |   |--- weights: [8.00, 19.00] class: 1.0\n",
      "|   |   |   |   |   |--- Customer_Age >  0.24\n",
      "|   |   |   |   |   |   |--- Total_Trans_Ct <= 0.28\n",
      "|   |   |   |   |   |   |   |--- Avg_Utilization_Ratio <= 0.46\n",
      "|   |   |   |   |   |   |   |   |--- weights: [32.00, 5.00] class: 0.0\n",
      "|   |   |   |   |   |   |   |--- Avg_Utilization_Ratio >  0.46\n",
      "|   |   |   |   |   |   |   |   |--- weights: [35.00, 0.00] class: 0.0\n",
      "|   |   |   |   |   |   |--- Total_Trans_Ct >  0.28\n",
      "|   |   |   |   |   |   |   |--- Total_Revolving_Bal <= 0.61\n",
      "|   |   |   |   |   |   |   |   |--- weights: [8.00, 22.00] class: 1.0\n",
      "|   |   |   |   |   |   |   |--- Total_Revolving_Bal >  0.61\n",
      "|   |   |   |   |   |   |   |   |--- weights: [28.00, 8.00] class: 0.0\n",
      "|   |   |   |   |--- Total_Ct_Chng_Q4_Q1 >  0.17\n",
      "|   |   |   |   |   |--- Total_Amt_Chng_Q4_Q1 <= 0.31\n",
      "|   |   |   |   |   |   |--- Total_Ct_Chng_Q4_Q1 <= 0.24\n",
      "|   |   |   |   |   |   |   |--- Total_Trans_Ct <= 0.34\n",
      "|   |   |   |   |   |   |   |   |--- Months_Inactive_12_mon <= 0.42\n",
      "|   |   |   |   |   |   |   |   |   |--- weights: [9.00, 20.00] class: 1.0\n",
      "|   |   |   |   |   |   |   |   |--- Months_Inactive_12_mon >  0.42\n",
      "|   |   |   |   |   |   |   |   |   |--- weights: [26.00, 11.00] class: 0.0\n",
      "|   |   |   |   |   |   |   |--- Total_Trans_Ct >  0.34\n",
      "|   |   |   |   |   |   |   |   |--- weights: [4.00, 42.00] class: 1.0\n",
      "|   |   |   |   |   |   |--- Total_Ct_Chng_Q4_Q1 >  0.24\n",
      "|   |   |   |   |   |   |   |--- Customer_Age <= 0.44\n",
      "|   |   |   |   |   |   |   |   |--- weights: [0.00, 33.00] class: 1.0\n",
      "|   |   |   |   |   |   |   |--- Customer_Age >  0.44\n",
      "|   |   |   |   |   |   |   |   |--- weights: [1.00, 24.00] class: 1.0\n",
      "|   |   |   |   |   |--- Total_Amt_Chng_Q4_Q1 >  0.31\n",
      "|   |   |   |   |   |   |--- weights: [0.00, 88.00] class: 1.0\n",
      "|--- Total_Trans_Ct >  0.37\n",
      "|   |--- Total_Trans_Amt <= 0.26\n",
      "|   |   |--- Total_Trans_Ct <= 0.42\n",
      "|   |   |   |--- Total_Revolving_Bal <= 0.16\n",
      "|   |   |   |   |--- Total_Ct_Chng_Q4_Q1 <= 0.17\n",
      "|   |   |   |   |   |--- weights: [12.00, 27.00] class: 1.0\n",
      "|   |   |   |   |--- Total_Ct_Chng_Q4_Q1 >  0.17\n",
      "|   |   |   |   |   |--- Total_Trans_Amt <= 0.13\n",
      "|   |   |   |   |   |   |--- weights: [5.00, 21.00] class: 1.0\n",
      "|   |   |   |   |   |--- Total_Trans_Amt >  0.13\n",
      "|   |   |   |   |   |   |--- Avg_Open_To_Buy <= 0.15\n",
      "|   |   |   |   |   |   |   |--- weights: [0.00, 42.00] class: 1.0\n",
      "|   |   |   |   |   |   |--- Avg_Open_To_Buy >  0.15\n",
      "|   |   |   |   |   |   |   |--- weights: [1.00, 24.00] class: 1.0\n",
      "|   |   |   |--- Total_Revolving_Bal >  0.16\n",
      "|   |   |   |   |--- Total_Revolving_Bal <= 0.96\n",
      "|   |   |   |   |   |--- Total_Trans_Amt <= 0.12\n",
      "|   |   |   |   |   |   |--- Total_Revolving_Bal <= 0.52\n",
      "|   |   |   |   |   |   |   |--- weights: [3.00, 31.00] class: 1.0\n",
      "|   |   |   |   |   |   |--- Total_Revolving_Bal >  0.52\n",
      "|   |   |   |   |   |   |   |--- weights: [0.00, 65.00] class: 1.0\n",
      "|   |   |   |   |   |--- Total_Trans_Amt >  0.12\n",
      "|   |   |   |   |   |   |--- weights: [0.00, 311.00] class: 1.0\n",
      "|   |   |   |   |--- Total_Revolving_Bal >  0.96\n",
      "|   |   |   |   |   |--- weights: [5.00, 26.00] class: 1.0\n",
      "|   |   |--- Total_Trans_Ct >  0.42\n",
      "|   |   |   |--- Total_Trans_Amt <= 0.12\n",
      "|   |   |   |   |--- Total_Amt_Chng_Q4_Q1 <= 0.23\n",
      "|   |   |   |   |   |--- weights: [2.00, 23.00] class: 1.0\n",
      "|   |   |   |   |--- Total_Amt_Chng_Q4_Q1 >  0.23\n",
      "|   |   |   |   |   |--- weights: [0.00, 31.00] class: 1.0\n",
      "|   |   |   |--- Total_Trans_Amt >  0.12\n",
      "|   |   |   |   |--- Months_on_book <= 0.92\n",
      "|   |   |   |   |   |--- weights: [0.00, 2713.00] class: 1.0\n",
      "|   |   |   |   |--- Months_on_book >  0.92\n",
      "|   |   |   |   |   |--- Credit_Limit <= 0.12\n",
      "|   |   |   |   |   |   |--- weights: [0.00, 34.00] class: 1.0\n",
      "|   |   |   |   |   |--- Credit_Limit >  0.12\n",
      "|   |   |   |   |   |   |--- weights: [1.00, 24.00] class: 1.0\n",
      "|   |--- Total_Trans_Amt >  0.26\n",
      "|   |   |--- Total_Trans_Ct <= 0.55\n",
      "|   |   |   |--- Total_Revolving_Bal <= 0.33\n",
      "|   |   |   |   |--- Total_Trans_Ct <= 0.46\n",
      "|   |   |   |   |   |--- weights: [54.00, 0.00] class: 0.0\n",
      "|   |   |   |   |--- Total_Trans_Ct >  0.46\n",
      "|   |   |   |   |   |--- Total_Amt_Chng_Q4_Q1 <= 0.24\n",
      "|   |   |   |   |   |   |--- weights: [16.00, 12.00] class: 0.0\n",
      "|   |   |   |   |   |--- Total_Amt_Chng_Q4_Q1 >  0.24\n",
      "|   |   |   |   |   |   |--- weights: [36.00, 2.00] class: 0.0\n",
      "|   |   |   |--- Total_Revolving_Bal >  0.33\n",
      "|   |   |   |   |--- Total_Trans_Ct <= 0.45\n",
      "|   |   |   |   |   |--- weights: [22.00, 7.00] class: 0.0\n",
      "|   |   |   |   |--- Total_Trans_Ct >  0.45\n",
      "|   |   |   |   |   |--- Total_Trans_Amt <= 0.42\n",
      "|   |   |   |   |   |   |--- Contacts_Count_12_mon <= 0.42\n",
      "|   |   |   |   |   |   |   |--- weights: [0.00, 39.00] class: 1.0\n",
      "|   |   |   |   |   |   |--- Contacts_Count_12_mon >  0.42\n",
      "|   |   |   |   |   |   |   |--- weights: [4.00, 22.00] class: 1.0\n",
      "|   |   |   |   |   |--- Total_Trans_Amt >  0.42\n",
      "|   |   |   |   |   |   |--- weights: [11.00, 14.00] class: 1.0\n",
      "|   |   |--- Total_Trans_Ct >  0.55\n",
      "|   |   |   |--- Total_Trans_Ct <= 0.62\n",
      "|   |   |   |   |--- Total_Amt_Chng_Q4_Q1 <= 0.24\n",
      "|   |   |   |   |   |--- Total_Ct_Chng_Q4_Q1 <= 0.21\n",
      "|   |   |   |   |   |   |--- weights: [0.00, 130.00] class: 1.0\n",
      "|   |   |   |   |   |--- Total_Ct_Chng_Q4_Q1 >  0.21\n",
      "|   |   |   |   |   |   |--- weights: [2.00, 23.00] class: 1.0\n",
      "|   |   |   |   |--- Total_Amt_Chng_Q4_Q1 >  0.24\n",
      "|   |   |   |   |   |--- weights: [15.00, 31.00] class: 1.0\n",
      "|   |   |   |--- Total_Trans_Ct >  0.62\n",
      "|   |   |   |   |--- Contacts_Count_12_mon <= 0.58\n",
      "|   |   |   |   |   |--- weights: [0.00, 590.00] class: 1.0\n",
      "|   |   |   |   |--- Contacts_Count_12_mon >  0.58\n",
      "|   |   |   |   |   |--- weights: [1.00, 32.00] class: 1.0\n",
      "\n"
     ]
    }
   ],
   "source": [
    "from sklearn.tree import export_text\n",
    "\n",
    "print(export_text(decision_tree, show_weights=True, feature_names=list(X.columns.values)))"
   ],
   "metadata": {
    "collapsed": false
   }
  },
  {
   "cell_type": "code",
   "execution_count": 273,
   "outputs": [
    {
     "data": {
      "text/plain": "<AxesSubplot:>"
     },
     "execution_count": 273,
     "metadata": {},
     "output_type": "execute_result"
    },
    {
     "data": {
      "text/plain": "<Figure size 432x288 with 2 Axes>",
      "image/png": "[encoded data removed]"
     },
     "metadata": {},
     "output_type": "display_data"
    }
   ],
   "source": [
    "sns.heatmap(confusion_matrix(y_test, y_predict), annot=True, cmap=\"Blues\")"
   ],
   "metadata": {
    "collapsed": false
   }
  },
  {
   "cell_type": "markdown",
   "source": [
    "As we could see above, when we use 30% of customers as test data and the same parameters as was mentioned above, we get accuracy score around 94%. In the heat map, we could see exactly the same what we see from the accuracy score.\n",
    "\n",
    "Also, if you are interested in, you could discover structure of the decision tree, that was printed out in text form above."
   ],
   "metadata": {
    "collapsed": false
   }
  },
  {
   "cell_type": "markdown",
   "source": [
    "### k-Nearest Neighbors\n",
    "\n",
    "In this part, we will use the k-Nearest Neighbours algorith, with different hyperparameters."
   ],
   "metadata": {
    "collapsed": false
   }
  },
  {
   "cell_type": "markdown",
   "source": [
    "First of all, we will try to use uniform weights, and by using for cycle, try to find out optimal number of neighbors."
   ],
   "metadata": {
    "collapsed": false
   }
  },
  {
   "cell_type": "code",
   "execution_count": 275,
   "outputs": [
    {
     "name": "stdout",
     "output_type": "stream",
     "text": [
      "Number of neighbors = 1, score(mean, min, max): (0.8547422050887865, 0.7976307996051333, 0.910167818361303)\n",
      "Number of neighbors = 2, score(mean, min, max): (0.8382528122549153, 0.7384007897334649, 0.910167818361303)\n",
      "Number of neighbors = 3, score(mean, min, max): (0.8507276290957991, 0.7384007897334649, 0.924901185770751)\n",
      "Number of neighbors = 4, score(mean, min, max): (0.8552125237524827, 0.7384007897334649, 0.9278656126482213)\n",
      "Number of neighbors = 5, score(mean, min, max): (0.8596409131878465, 0.7384007897334649, 0.9278656126482213)\n",
      "Number of neighbors = 6, score(mean, min, max): (0.8624123222872095, 0.7384007897334649, 0.9278656126482213)\n",
      "Number of neighbors = 7, score(mean, min, max): (0.8654215414183652, 0.7384007897334649, 0.9278656126482213)\n",
      "Number of neighbors = 8, score(mean, min, max): (0.8676661771476732, 0.7384007897334649, 0.932806324110672)\n",
      "Number of neighbors = 9, score(mean, min, max): (0.8693570431123547, 0.7384007897334649, 0.932806324110672)\n",
      "Number of neighbors = 10, score(mean, min, max): (0.8707591234894981, 0.7384007897334649, 0.932806324110672)\n",
      "Number of neighbors = 11, score(mean, min, max): (0.8719062003512369, 0.7384007897334649, 0.932806324110672)\n",
      "Number of neighbors = 12, score(mean, min, max): (0.8728127719098363, 0.7384007897334649, 0.932806324110672)\n",
      "Number of neighbors = 13, score(mean, min, max): (0.8735038449682855, 0.7384007897334649, 0.932806324110672)\n",
      "Number of neighbors = 14, score(mean, min, max): (0.8741737842825871, 0.7384007897334649, 0.932806324110672)\n",
      "Number of neighbors = 15, score(mean, min, max): (0.8746754185054112, 0.7384007897334649, 0.932806324110672)\n",
      "Number of neighbors = 16, score(mean, min, max): (0.8751822405565592, 0.7384007897334649, 0.932806324110672)\n",
      "Number of neighbors = 17, score(mean, min, max): (0.875443553727146, 0.7384007897334649, 0.932806324110672)\n",
      "Number of neighbors = 18, score(mean, min, max): (0.8757690862008645, 0.7384007897334649, 0.932806324110672)\n",
      "Number of neighbors = 19, score(mean, min, max): (0.8759927937026684, 0.7384007897334649, 0.932806324110672)\n",
      "Number of neighbors = 20, score(mean, min, max): (0.8761941304542918, 0.7384007897334649, 0.932806324110672)\n",
      "Best result: number of neighbors = 20, mean of precision score = 0.8761941304542918\n"
     ]
    }
   ],
   "source": [
    "skf = StratifiedKFold(n_splits=10)\n",
    "scores = list()\n",
    "best_score_index = (0,0)\n",
    "\n",
    "for i in range(1,21):\n",
    "    for train_index, test_index in skf.split(X, y):\n",
    "        X_train, X_test = X.iloc[train_index, :], X.iloc[test_index, :]\n",
    "        y_train, y_test = y.iloc[train_index], y.iloc[test_index]\n",
    "        clf = KNeighborsClassifier(n_neighbors=i, weights='uniform')\n",
    "        clf.fit(X_train, y_train)\n",
    "        y_pred = clf.predict(X_test)\n",
    "        scores.append(accuracy_score(y_test, y_pred))\n",
    "    print(f'Number of neighbors = {i}, score(mean, min, max): {np.mean(scores), np.min(scores), np.max(scores)}')\n",
    "    if np.mean(scores) >= best_score_index[1]:\n",
    "            best_score_index = (i, np.mean(scores))\n",
    "\n",
    "print(f'Best result: number of neighbors = {best_score_index[0]}, mean of precision score = {best_score_index[1]}')"
   ],
   "metadata": {
    "collapsed": false
   }
  },
  {
   "cell_type": "code",
   "execution_count": 277,
   "outputs": [
    {
     "name": "stdout",
     "output_type": "stream",
     "text": [
      "Number of neighbors = 1, score(mean, min, max): (0.8547422050887865, 0.7976307996051333, 0.910167818361303)\n",
      "Number of neighbors = 6, score(mean, min, max): (0.8655057864364059, 0.7976307996051333, 0.9239130434782609)\n",
      "Number of neighbors = 11, score(mean, min, max): (0.871462847280479, 0.7976307996051333, 0.9239130434782609)\n",
      "Number of neighbors = 16, score(mean, min, max): (0.8742932782913039, 0.7976307996051333, 0.9239130434782609)\n",
      "Number of neighbors = 21, score(mean, min, max): (0.8751226349940887, 0.7976307996051333, 0.9239130434782609)\n",
      "Number of neighbors = 26, score(mean, min, max): (0.8758235982296028, 0.7976307996051333, 0.9239130434782609)\n",
      "Number of neighbors = 31, score(mean, min, max): (0.8756895953953768, 0.7976307996051333, 0.9239130434782609)\n",
      "Number of neighbors = 36, score(mean, min, max): (0.8756137358606886, 0.7976307996051333, 0.9239130434782609)\n",
      "Number of neighbors = 41, score(mean, min, max): (0.8752914461582215, 0.7976307996051333, 0.9239130434782609)\n",
      "Number of neighbors = 46, score(mean, min, max): (0.8751224789202814, 0.7976307996051333, 0.9239130434782609)\n",
      "Number of neighbors = 51, score(mean, min, max): (0.8747957384046916, 0.7976307996051333, 0.9239130434782609)\n",
      "Number of neighbors = 56, score(mean, min, max): (0.8744576353907763, 0.7976307996051333, 0.9239130434782609)\n",
      "Number of neighbors = 61, score(mean, min, max): (0.8740272399817874, 0.7976307996051333, 0.9239130434782609)\n",
      "Number of neighbors = 66, score(mean, min, max): (0.8736724180793668, 0.7976307996051333, 0.9239130434782609)\n",
      "Number of neighbors = 71, score(mean, min, max): (0.8732661695715904, 0.7976307996051333, 0.9239130434782609)\n",
      "Number of neighbors = 76, score(mean, min, max): (0.8728675196750544, 0.7976307996051333, 0.9239130434782609)\n",
      "Number of neighbors = 81, score(mean, min, max): (0.8724751274583632, 0.7976307996051333, 0.9239130434782609)\n",
      "Number of neighbors = 86, score(mean, min, max): (0.8720824386185559, 0.7976307996051333, 0.9239130434782609)\n",
      "Number of neighbors = 91, score(mean, min, max): (0.871653135820561, 0.7976307996051333, 0.9239130434782609)\n",
      "Number of neighbors = 96, score(mean, min, max): (0.8712865115162961, 0.7976307996051333, 0.9239130434782609)\n",
      "Best result: number of neighbors = 26, mean of precision score = 0.8758235982296028\n"
     ]
    }
   ],
   "source": [
    "skf = StratifiedKFold(n_splits=10)\n",
    "scores = list()\n",
    "best_score_index = (0,0)\n",
    "\n",
    "for i in range(1,101,5):\n",
    "    for train_index, test_index in skf.split(X, y):\n",
    "        X_train, X_test = X.iloc[train_index, :], X.iloc[test_index, :]\n",
    "        y_train, y_test = y.iloc[train_index], y.iloc[test_index]\n",
    "        clf = KNeighborsClassifier(n_neighbors=i, weights='uniform')\n",
    "        clf.fit(X_train, y_train)\n",
    "        y_pred = clf.predict(X_test)\n",
    "        scores.append(accuracy_score(y_test, y_pred))\n",
    "    print(f'Number of neighbors = {i}, score(mean, min, max): {np.mean(scores), np.min(scores), np.max(scores)}')\n",
    "    if np.mean(scores) >= best_score_index[1]:\n",
    "            best_score_index = (i, np.mean(scores))\n",
    "\n",
    "print(f'Best result: number of neighbors = {best_score_index[0]}, mean of precision score = {best_score_index[1]}')"
   ],
   "metadata": {
    "collapsed": false
   }
  },
  {
   "cell_type": "markdown",
   "source": [
    "As we could see, optimal number of neighbours for uniform weight, is from 20 to 25 (more does not give better results, and it's more difficult). The best accuracy score we got was around 87,6%, which is significantly less than what got from decision tree."
   ],
   "metadata": {
    "collapsed": false
   }
  },
  {
   "cell_type": "markdown",
   "source": [
    "Now we will try the same experiments as above, but with distance weights."
   ],
   "metadata": {
    "collapsed": false
   }
  },
  {
   "cell_type": "code",
   "execution_count": 278,
   "outputs": [
    {
     "name": "stdout",
     "output_type": "stream",
     "text": [
      "Number of neighbors = 1, score(mean, min, max): (0.8547422050887865, 0.7976307996051333, 0.910167818361303)\n",
      "Number of neighbors = 2, score(mean, min, max): (0.8547422050887864, 0.7976307996051333, 0.910167818361303)\n",
      "Number of neighbors = 3, score(mean, min, max): (0.8617205576517133, 0.7976307996051333, 0.924901185770751)\n",
      "Number of neighbors = 4, score(mean, min, max): (0.865999369852003, 0.7976307996051333, 0.924901185770751)\n",
      "Number of neighbors = 5, score(mean, min, max): (0.8683296395865605, 0.7976307996051333, 0.924901185770751)\n",
      "Number of neighbors = 6, score(mean, min, max): (0.8704097067503224, 0.7976307996051333, 0.924901185770751)\n",
      "Number of neighbors = 7, score(mean, min, max): (0.8722764423867474, 0.7976307996051333, 0.924901185770751)\n",
      "Number of neighbors = 8, score(mean, min, max): (0.8737381920410161, 0.7976307996051333, 0.9258893280632411)\n",
      "Number of neighbors = 9, score(mean, min, max): (0.8747763375633671, 0.7976307996051333, 0.9258893280632411)\n",
      "Number of neighbors = 10, score(mean, min, max): (0.8756759166409794, 0.7976307996051333, 0.9258893280632411)\n",
      "Number of neighbors = 11, score(mean, min, max): (0.8764029439067189, 0.7976307996051333, 0.9258893280632411)\n",
      "Number of neighbors = 12, score(mean, min, max): (0.8770005573135536, 0.7976307996051333, 0.9258893280632411)\n",
      "Number of neighbors = 13, score(mean, min, max): (0.877437850359435, 0.7976307996051333, 0.9258893280632411)\n",
      "Number of neighbors = 14, score(mean, min, max): (0.877883233659769, 0.7976307996051333, 0.9258893280632411)\n",
      "Number of neighbors = 15, score(mean, min, max): (0.878190233161262, 0.7976307996051333, 0.9258893280632411)\n",
      "Number of neighbors = 16, score(mean, min, max): (0.8785144285357547, 0.7976307996051333, 0.9258893280632411)\n",
      "Number of neighbors = 17, score(mean, min, max): (0.878649418751304, 0.7976307996051333, 0.9258893280632411)\n",
      "Number of neighbors = 18, score(mean, min, max): (0.8788462330502761, 0.7976307996051333, 0.9258893280632411)\n",
      "Number of neighbors = 19, score(mean, min, max): (0.8789703482355754, 0.7976307996051333, 0.9258893280632411)\n",
      "Number of neighbors = 20, score(mean, min, max): (0.879096864282119, 0.7976307996051333, 0.9258893280632411)\n",
      "Best result: number of neighbors = 20, mean of precision score = 0.879096864282119\n"
     ]
    }
   ],
   "source": [
    "skf = StratifiedKFold(n_splits=10)\n",
    "scores = list()\n",
    "best_score_index = (0,0)\n",
    "\n",
    "for i in range(1,21):\n",
    "    for train_index, test_index in skf.split(X, y):\n",
    "        X_train, X_test = X.iloc[train_index, :], X.iloc[test_index, :]\n",
    "        y_train, y_test = y.iloc[train_index], y.iloc[test_index]\n",
    "        clf = KNeighborsClassifier(n_neighbors=i, weights='distance')\n",
    "        clf.fit(X_train, y_train)\n",
    "        y_pred = clf.predict(X_test)\n",
    "        scores.append(accuracy_score(y_test, y_pred))\n",
    "    print(f'Number of neighbors = {i}, score(mean, min, max): {np.mean(scores), np.min(scores), np.max(scores)}')\n",
    "    if np.mean(scores) >= best_score_index[1]:\n",
    "            best_score_index = (i, np.mean(scores))\n",
    "\n",
    "print(f'Best result: number of neighbors = {best_score_index[0]}, mean of precision score = {best_score_index[1]}')"
   ],
   "metadata": {
    "collapsed": false
   }
  },
  {
   "cell_type": "code",
   "execution_count": 31,
   "outputs": [
    {
     "name": "stdout",
     "output_type": "stream",
     "text": [
      "Number of neighbors = 1, score(mean, min, max): (0.8547422050887865, 0.7976307996051333, 0.910167818361303)\n",
      "Number of neighbors = 6, score(mean, min, max): (0.8677761238289587, 0.7976307996051333, 0.9219367588932806)\n",
      "Number of neighbors = 11, score(mean, min, max): (0.8730751547406769, 0.7976307996051333, 0.9219367588932806)\n",
      "Number of neighbors = 16, score(mean, min, max): (0.8756507058437937, 0.7976307996051333, 0.9219367588932806)\n",
      "Number of neighbors = 21, score(mean, min, max): (0.8767022579978071, 0.7976307996051333, 0.9219367588932806)\n",
      "Number of neighbors = 26, score(mean, min, max): (0.8771893741050143, 0.7976307996051333, 0.9219367588932806)\n",
      "Number of neighbors = 31, score(mean, min, max): (0.8772269642028001, 0.7976307996051333, 0.9219367588932806)\n",
      "Number of neighbors = 36, score(mean, min, max): (0.8770700142222256, 0.7976307996051333, 0.9219367588932806)\n",
      "Number of neighbors = 41, score(mean, min, max): (0.8767724131741902, 0.7976307996051333, 0.9219367588932806)\n",
      "Number of neighbors = 46, score(mean, min, max): (0.8764553394800401, 0.7976307996051333, 0.9219367588932806)\n",
      "Number of neighbors = 51, score(mean, min, max): (0.8761779759284528, 0.7976307996051333, 0.9219367588932806)\n",
      "Number of neighbors = 56, score(mean, min, max): (0.8757740366669398, 0.7976307996051333, 0.9219367588932806)\n",
      "Number of neighbors = 61, score(mean, min, max): (0.8753714931791244, 0.7976307996051333, 0.9219367588932806)\n",
      "Number of neighbors = 66, score(mean, min, max): (0.8750335140630863, 0.7976307996051333, 0.9219367588932806)\n",
      "Number of neighbors = 71, score(mean, min, max): (0.8746747812040314, 0.7976307996051333, 0.9219367588932806)\n",
      "Number of neighbors = 76, score(mean, min, max): (0.8743053618181037, 0.7976307996051333, 0.9219367588932806)\n",
      "Number of neighbors = 81, score(mean, min, max): (0.8739213062092357, 0.7976307996051333, 0.9219367588932806)\n",
      "Number of neighbors = 86, score(mean, min, max): (0.873563476084507, 0.7976307996051333, 0.9219367588932806)\n",
      "Number of neighbors = 91, score(mean, min, max): (0.8732225144270725, 0.7976307996051333, 0.9219367588932806)\n",
      "Number of neighbors = 96, score(mean, min, max): (0.8728415870365096, 0.7976307996051333, 0.9219367588932806)\n",
      "Best result: number of neighbors = 31, mean of precision score = 0.8772269642028001\n"
     ]
    }
   ],
   "source": [
    "skf = StratifiedKFold(n_splits=10)\n",
    "scores = list()\n",
    "best_score_index = (0,0)\n",
    "\n",
    "for i in range(1,101,5):\n",
    "    for train_index, test_index in skf.split(X, y):\n",
    "        X_train, X_test = X.iloc[train_index, :], X.iloc[test_index, :]\n",
    "        y_train, y_test = y.iloc[train_index], y.iloc[test_index]\n",
    "        clf = KNeighborsClassifier(n_neighbors=i, weights='distance')\n",
    "        clf.fit(X_train, y_train)\n",
    "        y_pred = clf.predict(X_test)\n",
    "        scores.append(accuracy_score(y_test, y_pred))\n",
    "    print(f'Number of neighbors = {i}, score(mean, min, max): {np.mean(scores), np.min(scores), np.max(scores)}')\n",
    "    if np.mean(scores) >= best_score_index[1]:\n",
    "            best_score_index = (i, np.mean(scores))\n",
    "\n",
    "print(f'Best result: number of neighbors = {best_score_index[0]}, mean of precision score = {best_score_index[1]}')"
   ],
   "metadata": {
    "collapsed": false
   }
  },
  {
   "cell_type": "markdown",
   "source": [
    "Again, we se that optimal number of neighbours is around 20, but again, the accuracy score is just around 87,9%, which is better than option with uniform weights, but still significantly worse than decision tree."
   ],
   "metadata": {
    "collapsed": false
   }
  },
  {
   "cell_type": "markdown",
   "source": [
    "#### k-Nearest Neighbors summary\n",
    "\n",
    "No meter how we set the parameters, by using decision tree (eve though it's easier and faster), we get better results. To sum up, we see that specifically for our data, k-Nearest Neighbors is not optimal algorithm."
   ],
   "metadata": {
    "collapsed": false
   }
  },
  {
   "cell_type": "markdown",
   "source": [
    "### Multi-layer Perceptron (Neural Network)\n",
    "\n",
    "Now, we will try different structures of network, different activation functions and so on. Our goal will be to beat the accuracy score, that we got by using decision tree.\n",
    "\n",
    "Hidden layer should contain between 14 and 45 neurons, due to shape of data. Therefor, it does not make a sense to try numbers out of this range."
   ],
   "metadata": {
    "collapsed": false
   }
  },
  {
   "cell_type": "markdown",
   "source": [
    "- Solver: adam\n",
    "- Activation: relu\n",
    "- Shape: 16"
   ],
   "metadata": {
    "collapsed": false
   }
  },
  {
   "cell_type": "code",
   "execution_count": 36,
   "outputs": [
    {
     "data": {
      "text/plain": "[0.8657453109575518,\n 0.8854886475814413,\n 0.9190523198420533,\n 0.9249753208292202,\n 0.9387956564659428,\n 0.9338598223099703,\n 0.9526159921026653,\n 0.9634387351778656,\n 0.8853754940711462,\n 0.5395256916996047]"
     },
     "execution_count": 36,
     "metadata": {},
     "output_type": "execute_result"
    }
   ],
   "source": [
    "skf = StratifiedKFold(n_splits=10)\n",
    "scores = list()\n",
    "for train_index, test_index in skf.split(X, y):\n",
    "    X_train, X_test = X.iloc[train_index, :], X.iloc[test_index, :]\n",
    "    y_train, y_test = y.iloc[train_index], y.iloc[test_index]\n",
    "    clf = MLPClassifier(solver='adam' ,activation='relu', hidden_layer_sizes=(16) ,max_iter=4000)\n",
    "    clf.fit(X_train, y_train)\n",
    "    y_pred = clf.predict(X_test)\n",
    "    scores.append(accuracy_score(y_test, y_pred))\n",
    "scores"
   ],
   "metadata": {
    "collapsed": false
   }
  },
  {
   "cell_type": "code",
   "execution_count": 37,
   "outputs": [
    {
     "data": {
      "text/plain": "(0.8808872991037463, 0.5395256916996047, 0.9634387351778656)"
     },
     "execution_count": 37,
     "metadata": {},
     "output_type": "execute_result"
    }
   ],
   "source": [
    "np.mean(scores), np.min(scores), np.max(scores)"
   ],
   "metadata": {
    "collapsed": false
   }
  },
  {
   "cell_type": "markdown",
   "source": [
    "- Solver: adam\n",
    "- Activation: relu\n",
    "- Shape: 16,16"
   ],
   "metadata": {
    "collapsed": false
   }
  },
  {
   "cell_type": "code",
   "execution_count": 38,
   "outputs": [
    {
     "data": {
      "text/plain": "[0.8716683119447186,\n 0.9022704837117473,\n 0.9220138203356367,\n 0.9526159921026653,\n 0.9674234945705824,\n 0.9644619940769991,\n 0.9427443237907206,\n 0.9881422924901185,\n 0.8992094861660079,\n 0.6393280632411067]"
     },
     "execution_count": 38,
     "metadata": {},
     "output_type": "execute_result"
    }
   ],
   "source": [
    "skf = StratifiedKFold(n_splits=10)\n",
    "scores = list()\n",
    "for train_index, test_index in skf.split(X, y):\n",
    "    X_train, X_test = X.iloc[train_index, :], X.iloc[test_index, :]\n",
    "    y_train, y_test = y.iloc[train_index], y.iloc[test_index]\n",
    "    clf = MLPClassifier(solver='adam' ,activation='relu', hidden_layer_sizes=(16,16) ,max_iter=4000)\n",
    "    clf.fit(X_train, y_train)\n",
    "    y_pred = clf.predict(X_test)\n",
    "    scores.append(accuracy_score(y_test, y_pred))\n",
    "scores"
   ],
   "metadata": {
    "collapsed": false
   }
  },
  {
   "cell_type": "code",
   "execution_count": 39,
   "outputs": [
    {
     "data": {
      "text/plain": "(0.9049878262430303, 0.6393280632411067, 0.9881422924901185)"
     },
     "execution_count": 39,
     "metadata": {},
     "output_type": "execute_result"
    }
   ],
   "source": [
    "np.mean(scores), np.min(scores), np.max(scores)"
   ],
   "metadata": {
    "collapsed": false
   }
  },
  {
   "cell_type": "markdown",
   "source": [
    "- Solver: adam\n",
    "- Activation: relu\n",
    "- Shape: 16,16,16"
   ],
   "metadata": {
    "collapsed": false
   }
  },
  {
   "cell_type": "code",
   "execution_count": 69,
   "outputs": [
    {
     "data": {
      "text/plain": "[0.8519249753208292,\n 0.9348469891411648,\n 0.9131293188548865,\n 0.9526159921026653,\n 0.9595261599210266,\n 0.9595261599210266,\n 0.9407699901283317,\n 0.9733201581027668,\n 0.8843873517786561,\n 0.6778656126482213]"
     },
     "execution_count": 69,
     "metadata": {},
     "output_type": "execute_result"
    }
   ],
   "source": [
    "skf = StratifiedKFold(n_splits=10)\n",
    "scores = list()\n",
    "for train_index, test_index in skf.split(X, y):\n",
    "    X_train, X_test = X.iloc[train_index, :], X.iloc[test_index, :]\n",
    "    y_train, y_test = y.iloc[train_index], y.iloc[test_index]\n",
    "    clf = MLPClassifier(solver='adam' ,activation='relu', hidden_layer_sizes=(16,16,16) ,max_iter=4000)\n",
    "    clf.fit(X_train, y_train)\n",
    "    y_pred = clf.predict(X_test)\n",
    "    scores.append(accuracy_score(y_test, y_pred))\n",
    "scores"
   ],
   "metadata": {
    "collapsed": false
   }
  },
  {
   "cell_type": "code",
   "execution_count": 70,
   "outputs": [
    {
     "data": {
      "text/plain": "(0.9047912707919574, 0.6778656126482213, 0.9733201581027668)"
     },
     "execution_count": 70,
     "metadata": {},
     "output_type": "execute_result"
    }
   ],
   "source": [
    "np.mean(scores), np.min(scores), np.max(scores)"
   ],
   "metadata": {
    "collapsed": false
   }
  },
  {
   "cell_type": "markdown",
   "source": [
    "- Solver: adam\n",
    "- Activation: relu\n",
    "- Shape: 32"
   ],
   "metadata": {
    "collapsed": false
   }
  },
  {
   "cell_type": "code",
   "execution_count": 30,
   "outputs": [
    {
     "data": {
      "text/plain": "[0.8479763079960513,\n 0.8904244817374136,\n 0.9151036525172754,\n 0.9378084896347483,\n 0.9536031589338598,\n 0.9387956564659428,\n 0.9437314906219151,\n 0.967391304347826,\n 0.8853754940711462,\n 0.44367588932806323]"
     },
     "execution_count": 30,
     "metadata": {},
     "output_type": "execute_result"
    }
   ],
   "source": [
    "skf = StratifiedKFold(n_splits=10)\n",
    "scores = list()\n",
    "for train_index, test_index in skf.split(X, y):\n",
    "    X_train, X_test = X.iloc[train_index, :], X.iloc[test_index, :]\n",
    "    y_train, y_test = y.iloc[train_index], y.iloc[test_index]\n",
    "    clf = MLPClassifier(solver='adam' ,activation='relu', hidden_layer_sizes=(32) ,max_iter=4000)\n",
    "    clf.fit(X_train, y_train)\n",
    "    y_pred = clf.predict(X_test)\n",
    "    scores.append(accuracy_score(y_test, y_pred))\n",
    "scores"
   ],
   "metadata": {
    "collapsed": false
   }
  },
  {
   "cell_type": "code",
   "execution_count": 31,
   "outputs": [
    {
     "data": {
      "text/plain": "(0.872388592565424, 0.44367588932806323, 0.967391304347826)"
     },
     "execution_count": 31,
     "metadata": {},
     "output_type": "execute_result"
    }
   ],
   "source": [
    "np.mean(scores), np.min(scores), np.max(scores)"
   ],
   "metadata": {
    "collapsed": false
   }
  },
  {
   "cell_type": "markdown",
   "source": [
    "- Solver: adam\n",
    "- Activation: relu\n",
    "- Shape: 32,32"
   ],
   "metadata": {
    "collapsed": false
   }
  },
  {
   "cell_type": "code",
   "execution_count": 32,
   "outputs": [
    {
     "data": {
      "text/plain": "[0.8450148075024679,\n 0.9012833168805529,\n 0.932872655478776,\n 0.9427443237907206,\n 0.9555774925962488,\n 0.9654491609081934,\n 0.9387956564659428,\n 0.9841897233201581,\n 0.8903162055335968,\n 0.5820158102766798]"
     },
     "execution_count": 32,
     "metadata": {},
     "output_type": "execute_result"
    }
   ],
   "source": [
    "skf = StratifiedKFold(n_splits=10)\n",
    "scores = list()\n",
    "for train_index, test_index in skf.split(X, y):\n",
    "    X_train, X_test = X.iloc[train_index, :], X.iloc[test_index, :]\n",
    "    y_train, y_test = y.iloc[train_index], y.iloc[test_index]\n",
    "    clf = MLPClassifier(solver='adam' ,activation='relu', hidden_layer_sizes=(32,32) ,max_iter=4000)\n",
    "    clf.fit(X_train, y_train)\n",
    "    y_pred = clf.predict(X_test)\n",
    "    scores.append(accuracy_score(y_test, y_pred))\n",
    "scores"
   ],
   "metadata": {
    "collapsed": false
   }
  },
  {
   "cell_type": "code",
   "execution_count": 33,
   "outputs": [
    {
     "data": {
      "text/plain": "(0.8938259152753337, 0.5820158102766798, 0.9841897233201581)"
     },
     "execution_count": 33,
     "metadata": {},
     "output_type": "execute_result"
    }
   ],
   "source": [
    "np.mean(scores), np.min(scores), np.max(scores)"
   ],
   "metadata": {
    "collapsed": false
   }
  },
  {
   "cell_type": "markdown",
   "source": [
    "As we could see above, no meter what architecture of NN we use (number of hidden layers, number of neurons in layers), we always get approximately the same result, average accuracy score around 90,5% for 16 neurons in layer, and just around 88-89% for 32 neurons in layer, and that's worse than what we got from decision tree.\n",
    "\n",
    "Now, we will use NN with one, two and three layers size 16, and try different solvers and activation functions to get the best possible result (and beat decision tree)."
   ],
   "metadata": {
    "collapsed": false
   }
  },
  {
   "cell_type": "markdown",
   "source": [
    "- Solver: adam\n",
    "- Activation: identity\n",
    "- Shape: 16 | 16,16 | 16,16,16"
   ],
   "metadata": {
    "collapsed": false
   }
  },
  {
   "cell_type": "code",
   "execution_count": 34,
   "outputs": [
    {
     "data": {
      "text/plain": "[0.8124383020730503,\n 0.8262586377097729,\n 0.8884501480750246,\n 0.9131293188548865,\n 0.930898321816387,\n 0.9091806515301086,\n 0.9190523198420533,\n 0.9367588932806324,\n 0.8893280632411067,\n 0.7747035573122529]"
     },
     "execution_count": 34,
     "metadata": {},
     "output_type": "execute_result"
    }
   ],
   "source": [
    "skf = StratifiedKFold(n_splits=10)\n",
    "scores = list()\n",
    "for train_index, test_index in skf.split(X, y):\n",
    "    X_train, X_test = X.iloc[train_index, :], X.iloc[test_index, :]\n",
    "    y_train, y_test = y.iloc[train_index], y.iloc[test_index]\n",
    "    clf = MLPClassifier(solver='adam' ,activation='identity', hidden_layer_sizes=(16) ,max_iter=4000)\n",
    "    clf.fit(X_train, y_train)\n",
    "    y_pred = clf.predict(X_test)\n",
    "    scores.append(accuracy_score(y_test, y_pred))\n",
    "scores"
   ],
   "metadata": {
    "collapsed": false
   }
  },
  {
   "cell_type": "code",
   "execution_count": 35,
   "outputs": [
    {
     "data": {
      "text/plain": "(0.8800198213735275, 0.7747035573122529, 0.9367588932806324)"
     },
     "execution_count": 35,
     "metadata": {},
     "output_type": "execute_result"
    }
   ],
   "source": [
    "np.mean(scores), np.min(scores), np.max(scores)"
   ],
   "metadata": {
    "collapsed": false
   }
  },
  {
   "cell_type": "code",
   "execution_count": 36,
   "outputs": [
    {
     "data": {
      "text/plain": "[0.7847976307996052,\n 0.8341559723593287,\n 0.8874629812438302,\n 0.914116485686081,\n 0.9338598223099703,\n 0.910167818361303,\n 0.9299111549851925,\n 0.9367588932806324,\n 0.8814229249011858,\n 0.7816205533596838]"
     },
     "execution_count": 36,
     "metadata": {},
     "output_type": "execute_result"
    }
   ],
   "source": [
    "skf = StratifiedKFold(n_splits=10)\n",
    "scores = list()\n",
    "for train_index, test_index in skf.split(X, y):\n",
    "    X_train, X_test = X.iloc[train_index, :], X.iloc[test_index, :]\n",
    "    y_train, y_test = y.iloc[train_index], y.iloc[test_index]\n",
    "    clf = MLPClassifier(solver='adam' ,activation='identity', hidden_layer_sizes=(16,16) ,max_iter=4000)\n",
    "    clf.fit(X_train, y_train)\n",
    "    y_pred = clf.predict(X_test)\n",
    "    scores.append(accuracy_score(y_test, y_pred))\n",
    "scores"
   ],
   "metadata": {
    "collapsed": false
   }
  },
  {
   "cell_type": "code",
   "execution_count": 39,
   "outputs": [
    {
     "data": {
      "text/plain": "(0.8794267409057743, 0.7816205533596838, 0.9348469891411648)"
     },
     "execution_count": 39,
     "metadata": {},
     "output_type": "execute_result"
    }
   ],
   "source": [
    "np.mean(scores), np.min(scores), np.max(scores)"
   ],
   "metadata": {
    "collapsed": false
   }
  },
  {
   "cell_type": "code",
   "execution_count": 37,
   "outputs": [
    {
     "data": {
      "text/plain": "[0.8084896347482725,\n 0.8292201382033564,\n 0.8993089832181639,\n 0.9081934846989141,\n 0.9348469891411648,\n 0.9072063178677197,\n 0.914116485686081,\n 0.9347826086956522,\n 0.8764822134387352,\n 0.7816205533596838]"
     },
     "execution_count": 37,
     "metadata": {},
     "output_type": "execute_result"
    }
   ],
   "source": [
    "skf = StratifiedKFold(n_splits=10)\n",
    "scores = list()\n",
    "for train_index, test_index in skf.split(X, y):\n",
    "    X_train, X_test = X.iloc[train_index, :], X.iloc[test_index, :]\n",
    "    y_train, y_test = y.iloc[train_index], y.iloc[test_index]\n",
    "    clf = MLPClassifier(solver='adam' ,activation='identity', hidden_layer_sizes=(16,16,16) ,max_iter=4000)\n",
    "    clf.fit(X_train, y_train)\n",
    "    y_pred = clf.predict(X_test)\n",
    "    scores.append(accuracy_score(y_test, y_pred))\n",
    "scores"
   ],
   "metadata": {
    "collapsed": false
   }
  },
  {
   "cell_type": "code",
   "execution_count": 38,
   "outputs": [
    {
     "data": {
      "text/plain": "(0.8794267409057743, 0.7816205533596838, 0.9348469891411648)"
     },
     "execution_count": 38,
     "metadata": {},
     "output_type": "execute_result"
    }
   ],
   "source": [
    "np.mean(scores), np.min(scores), np.max(scores)"
   ],
   "metadata": {
    "collapsed": false
   }
  },
  {
   "cell_type": "markdown",
   "source": [
    "As we could see, by using identity as activation function (making just linear combination), we get worse results, therefor this is not the correct way."
   ],
   "metadata": {
    "collapsed": false
   }
  },
  {
   "cell_type": "markdown",
   "source": [
    "- Solver: adam\n",
    "- Activation: logistic\n",
    "- Shape: 16 | 16,16 | 16,16,16"
   ],
   "metadata": {
    "collapsed": false
   }
  },
  {
   "cell_type": "code",
   "execution_count": 40,
   "outputs": [
    {
     "data": {
      "text/plain": "[0.8687068114511353,\n 0.8726554787759131,\n 0.9160908193484699,\n 0.9358341559723593,\n 0.9417571569595261,\n 0.9239881539980257,\n 0.9407699901283317,\n 0.958498023715415,\n 0.900197628458498,\n 0.8211462450592886]"
     },
     "execution_count": 40,
     "metadata": {},
     "output_type": "execute_result"
    }
   ],
   "source": [
    "skf = StratifiedKFold(n_splits=10)\n",
    "scores = list()\n",
    "for train_index, test_index in skf.split(X, y):\n",
    "    X_train, X_test = X.iloc[train_index, :], X.iloc[test_index, :]\n",
    "    y_train, y_test = y.iloc[train_index], y.iloc[test_index]\n",
    "    clf = MLPClassifier(solver='adam' ,activation='logistic', hidden_layer_sizes=(16) ,max_iter=4000)\n",
    "    clf.fit(X_train, y_train)\n",
    "    y_pred = clf.predict(X_test)\n",
    "    scores.append(accuracy_score(y_test, y_pred))\n",
    "scores"
   ],
   "metadata": {
    "collapsed": false
   }
  },
  {
   "cell_type": "code",
   "execution_count": 41,
   "outputs": [
    {
     "data": {
      "text/plain": "(0.9079644463866963, 0.8211462450592886, 0.958498023715415)"
     },
     "execution_count": 41,
     "metadata": {},
     "output_type": "execute_result"
    }
   ],
   "source": [
    "np.mean(scores), np.min(scores), np.max(scores)"
   ],
   "metadata": {
    "collapsed": false
   }
  },
  {
   "cell_type": "code",
   "execution_count": 42,
   "outputs": [
    {
     "data": {
      "text/plain": "[0.8558736426456071,\n 0.8647581441263573,\n 0.914116485686081,\n 0.928923988153998,\n 0.9387956564659428,\n 0.9220138203356367,\n 0.9397828232971372,\n 0.9535573122529645,\n 0.8843873517786561,\n 0.9367588932806324]"
     },
     "execution_count": 42,
     "metadata": {},
     "output_type": "execute_result"
    }
   ],
   "source": [
    "skf = StratifiedKFold(n_splits=10)\n",
    "scores = list()\n",
    "for train_index, test_index in skf.split(X, y):\n",
    "    X_train, X_test = X.iloc[train_index, :], X.iloc[test_index, :]\n",
    "    y_train, y_test = y.iloc[train_index], y.iloc[test_index]\n",
    "    clf = MLPClassifier(solver='adam' ,activation='logistic', hidden_layer_sizes=(16,16) ,max_iter=4000)\n",
    "    clf.fit(X_train, y_train)\n",
    "    y_pred = clf.predict(X_test)\n",
    "    scores.append(accuracy_score(y_test, y_pred))\n",
    "scores"
   ],
   "metadata": {
    "collapsed": false
   }
  },
  {
   "cell_type": "code",
   "execution_count": 43,
   "outputs": [
    {
     "data": {
      "text/plain": "(0.9138968118023014, 0.8558736426456071, 0.9535573122529645)"
     },
     "execution_count": 43,
     "metadata": {},
     "output_type": "execute_result"
    }
   ],
   "source": [
    "np.mean(scores), np.min(scores), np.max(scores)"
   ],
   "metadata": {
    "collapsed": false
   }
  },
  {
   "cell_type": "code",
   "execution_count": 44,
   "outputs": [
    {
     "data": {
      "text/plain": "[0.8420533070088845,\n 0.8637709772951628,\n 0.914116485686081,\n 0.9387956564659428,\n 0.9358341559723593,\n 0.9259624876604146,\n 0.9397828232971372,\n 0.9535573122529645,\n 0.8873517786561265,\n 0.8695652173913043]"
     },
     "execution_count": 44,
     "metadata": {},
     "output_type": "execute_result"
    }
   ],
   "source": [
    "skf = StratifiedKFold(n_splits=10)\n",
    "scores = list()\n",
    "for train_index, test_index in skf.split(X, y):\n",
    "    X_train, X_test = X.iloc[train_index, :], X.iloc[test_index, :]\n",
    "    y_train, y_test = y.iloc[train_index], y.iloc[test_index]\n",
    "    clf = MLPClassifier(solver='adam' ,activation='logistic', hidden_layer_sizes=(16,16,16) ,max_iter=4000)\n",
    "    clf.fit(X_train, y_train)\n",
    "    y_pred = clf.predict(X_test)\n",
    "    scores.append(accuracy_score(y_test, y_pred))\n",
    "scores"
   ],
   "metadata": {
    "collapsed": false
   }
  },
  {
   "cell_type": "code",
   "execution_count": 45,
   "outputs": [
    {
     "data": {
      "text/plain": "(0.9070790201686378, 0.8420533070088845, 0.9535573122529645)"
     },
     "execution_count": 45,
     "metadata": {},
     "output_type": "execute_result"
    }
   ],
   "source": [
    "np.mean(scores), np.min(scores), np.max(scores)"
   ],
   "metadata": {
    "collapsed": false
   }
  },
  {
   "cell_type": "markdown",
   "source": [
    "As we could see, we get better results by using logistic function instead of relu function (even get to 91,4% as average accuracy score for 16,16 NN). That's closest to the results of decision tree we get till now. Last think we are going to try is using solver from family of quasi-Newton methods (lbfgs) and logistic function. Hopefully, we will finally be able to beat decision tree."
   ],
   "metadata": {
    "collapsed": false
   }
  },
  {
   "cell_type": "markdown",
   "source": [
    "- Solver: lbfgs\n",
    "- Activation: logistic\n",
    "- Shape: 16"
   ],
   "metadata": {
    "collapsed": false
   }
  },
  {
   "cell_type": "code",
   "execution_count": 48,
   "outputs": [
    {
     "name": "stderr",
     "output_type": "stream",
     "text": [
      "C:\\Users\\tomuz\\anaconda3\\lib\\site-packages\\sklearn\\neural_network\\_multilayer_perceptron.py:500: ConvergenceWarning: lbfgs failed to converge (status=1):\n",
      "STOP: TOTAL NO. of ITERATIONS REACHED LIMIT.\n",
      "\n",
      "Increase the number of iterations (max_iter) or scale the data as shown in:\n",
      "    https://scikit-learn.org/stable/modules/preprocessing.html\n",
      "  self.n_iter_ = _check_optimize_result(\"lbfgs\", opt_res, self.max_iter)\n",
      "C:\\Users\\tomuz\\anaconda3\\lib\\site-packages\\sklearn\\neural_network\\_multilayer_perceptron.py:500: ConvergenceWarning: lbfgs failed to converge (status=1):\n",
      "STOP: TOTAL NO. of ITERATIONS REACHED LIMIT.\n",
      "\n",
      "Increase the number of iterations (max_iter) or scale the data as shown in:\n",
      "    https://scikit-learn.org/stable/modules/preprocessing.html\n",
      "  self.n_iter_ = _check_optimize_result(\"lbfgs\", opt_res, self.max_iter)\n",
      "C:\\Users\\tomuz\\anaconda3\\lib\\site-packages\\sklearn\\neural_network\\_multilayer_perceptron.py:500: ConvergenceWarning: lbfgs failed to converge (status=1):\n",
      "STOP: TOTAL NO. of ITERATIONS REACHED LIMIT.\n",
      "\n",
      "Increase the number of iterations (max_iter) or scale the data as shown in:\n",
      "    https://scikit-learn.org/stable/modules/preprocessing.html\n",
      "  self.n_iter_ = _check_optimize_result(\"lbfgs\", opt_res, self.max_iter)\n",
      "C:\\Users\\tomuz\\anaconda3\\lib\\site-packages\\sklearn\\neural_network\\_multilayer_perceptron.py:500: ConvergenceWarning: lbfgs failed to converge (status=1):\n",
      "STOP: TOTAL NO. of ITERATIONS REACHED LIMIT.\n",
      "\n",
      "Increase the number of iterations (max_iter) or scale the data as shown in:\n",
      "    https://scikit-learn.org/stable/modules/preprocessing.html\n",
      "  self.n_iter_ = _check_optimize_result(\"lbfgs\", opt_res, self.max_iter)\n",
      "C:\\Users\\tomuz\\anaconda3\\lib\\site-packages\\sklearn\\neural_network\\_multilayer_perceptron.py:500: ConvergenceWarning: lbfgs failed to converge (status=1):\n",
      "STOP: TOTAL NO. of ITERATIONS REACHED LIMIT.\n",
      "\n",
      "Increase the number of iterations (max_iter) or scale the data as shown in:\n",
      "    https://scikit-learn.org/stable/modules/preprocessing.html\n",
      "  self.n_iter_ = _check_optimize_result(\"lbfgs\", opt_res, self.max_iter)\n",
      "C:\\Users\\tomuz\\anaconda3\\lib\\site-packages\\sklearn\\neural_network\\_multilayer_perceptron.py:500: ConvergenceWarning: lbfgs failed to converge (status=1):\n",
      "STOP: TOTAL NO. of ITERATIONS REACHED LIMIT.\n",
      "\n",
      "Increase the number of iterations (max_iter) or scale the data as shown in:\n",
      "    https://scikit-learn.org/stable/modules/preprocessing.html\n",
      "  self.n_iter_ = _check_optimize_result(\"lbfgs\", opt_res, self.max_iter)\n"
     ]
    },
    {
     "data": {
      "text/plain": "[0.8726554787759131,\n 0.8923988153998026,\n 0.9239881539980257,\n 0.9397828232971372,\n 0.9585389930898321,\n 0.9684106614017769,\n 0.9723593287265548,\n 0.9841897233201581,\n 0.8626482213438735,\n 0.47035573122529645]"
     },
     "execution_count": 48,
     "metadata": {},
     "output_type": "execute_result"
    }
   ],
   "source": [
    "skf = StratifiedKFold(n_splits=10)\n",
    "scores = list()\n",
    "for train_index, test_index in skf.split(X, y):\n",
    "    X_train, X_test = X.iloc[train_index, :], X.iloc[test_index, :]\n",
    "    y_train, y_test = y.iloc[train_index], y.iloc[test_index]\n",
    "    clf = MLPClassifier(solver='lbfgs' ,activation='logistic', hidden_layer_sizes=(16) ,max_iter=6000)\n",
    "    clf.fit(X_train, y_train)\n",
    "    y_pred = clf.predict(X_test)\n",
    "    scores.append(accuracy_score(y_test, y_pred))\n",
    "scores"
   ],
   "metadata": {
    "collapsed": false
   }
  },
  {
   "cell_type": "code",
   "execution_count": 49,
   "outputs": [
    {
     "data": {
      "text/plain": "(0.884532793057837, 0.47035573122529645, 0.9841897233201581)"
     },
     "execution_count": 49,
     "metadata": {},
     "output_type": "execute_result"
    }
   ],
   "source": [
    "np.mean(scores), np.min(scores), np.max(scores)"
   ],
   "metadata": {
    "collapsed": false
   }
  },
  {
   "cell_type": "markdown",
   "source": [
    "Even after one first experiment, we see that even though we increase number of iterations, this solver still has problem with convergence (we get the expeptions). Therefor it does not make a sense to continue doing other experiments with this solver."
   ],
   "metadata": {
    "collapsed": false
   }
  },
  {
   "cell_type": "markdown",
   "source": [
    "#### MLP classifier summary\n",
    "\n",
    "After performing several experiments with different architecture of the neuron network, different solvers and different activation functions, we got the best results for neuron network with two hidden layers each consisting of 16 neurons, adam solver and logistic activation function. Over all, we found out that adam solver is probably the best option for specifically this data, and that we got better results by using logical activation function instead of relu."
   ],
   "metadata": {
    "collapsed": false
   }
  },
  {
   "cell_type": "markdown",
   "source": [
    "## Results\n",
    "\n",
    "For decision tree and k-Nearest Neighbors, we will put there just some results from tuning, because during the tuning, we tried various number of hyperparameters (using for loop), and it does not make a sense to mention them all.\n",
    "\n",
    "\n",
    "| Algorithm           | Hyperparameters (just those diferend from default)                                 | Average accuracy score             |\n",
    "|:--------------------|:-----------------------------------------------------------------------------------|:-----------------------------------|\n",
    "| Decision tree       | min_samples_leaf = 1, criterion = 'gini'                                           | 90,96%                             |\n",
    "| Decision tree       | min_samples_leaf = 10, criterion = 'gini'                                          | 91,4%                              |\n",
    "| Decision tree       | min_samples_leaf = 90, criterion = 'gini'                                          | 91,74%                             |\n",
    "| Decision tree       | min_samples_leaf = 25, criterion = 'entropy'                                       | 91,9%                              |\n",
    "| k-Nearest Neighbors | n_neighbors=20, weights='uniform'                                                  | 87,6%                              |\n",
    "| k-Nearest Neighbors | n_neighbors=26, weights='uniform'                                                  | 87,58%                             |\n",
    "| k-Nearest Neighbors | n_neighbors=20, weights='distance'                                                 | 87,9%                              |\n",
    "| k-Nearest Neighbors | n_neighbors=31, weights='distance'                                                 | 87,7%                              |\n",
    "| MLP                 | solver='adam' ,activation='relu', hidden_layer_sizes=(16) ,max_iter=4000           | 88%                                |\n",
    "| MLP                 | solver='adam' ,activation='relu', hidden_layer_sizes=(16,16) ,max_iter=4000        | 90,5%                              |\n",
    "| MLP                 | solver='adam' ,activation='relu', hidden_layer_sizes=(16,16,16) ,max_iter=4000     | 90,48%                             |\n",
    "| MLP                 | solver='adam' ,activation='relu', hidden_layer_sizes=(32) ,max_iter=4000           | 87,24%                             |\n",
    "| MLP                 | solver='adam' ,activation='relu', hidden_layer_sizes=(32,32) ,max_iter=4000        | 89,38%                             |\n",
    "| MLP                 | solver='adam' ,activation='identity', hidden_layer_sizes=(16) ,max_iter=4000       | 88%                                |\n",
    "| MLP                 | solver='adam' ,activation='identity', hidden_layer_sizes=(16,16) ,max_iter=4000    | 87,94%                             |\n",
    "| MLP                 | solver='adam' ,activation='identity', hidden_layer_sizes=(16,16,16) ,max_iter=4000 | 87,94%                             |\n",
    "| MLP                 | solver='adam' ,activation='logistic', hidden_layer_sizes=(16) ,max_iter=4000       | 90,8%                              |\n",
    "| MLP                 | solver='adam' ,activation='logistic', hidden_layer_sizes=(16,16) ,max_iter=4000    | 91,39%                             |\n",
    "| MLP                 | solver='adam' ,activation='logistic', hidden_layer_sizes=(16,16,16) ,max_iter=4000 | 90,9%                              |\n",
    "| MLP                 | solver='lbfgs' ,activation='logistic', hidden_layer_sizes=(16) ,max_iter=6000      | 88,45% - problems with convergence |"
   ],
   "metadata": {
    "collapsed": false
   }
  },
  {
   "cell_type": "markdown",
   "source": [
    "## Summary\n",
    "\n",
    "After we prepare given data (transform categorical variables to numerical, min-max scaling), we perform several classification algorithms with various hyperparameters settings. From most of the experiments, we get average accuracy score (when using 10-fold validation) over 85%. Overall, we got the best result by using decision tree (around 92%). Closest to results of decision tree, we get by using a NN (around 91,4%), but the fitting of the model takes much longer time than building a decision tree, and even though it gives worse result.\n",
    "\n",
    "To sum up, we find out that for our data, the best classification algorith is probably decision tree.\n",
    "\n",
    "What is interesting from my point of view, is the fact that even though the decision tree algorithm is the most primitive one, it gave us in this case better results than other tested algorithms."
   ],
   "metadata": {
    "collapsed": false
   }
  },
  {
   "cell_type": "code",
   "execution_count": null,
   "outputs": [],
   "source": [],
   "metadata": {
    "collapsed": false
   }
  }
 ],
 "metadata": {
  "kernelspec": {
   "display_name": "Python 3",
   "language": "python",
   "name": "python3"
  },
  "language_info": {
   "codemirror_mode": {
    "name": "ipython",
    "version": 2
   },
   "file_extension": ".py",
   "mimetype": "text/x-python",
   "name": "python",
   "nbconvert_exporter": "python",
   "pygments_lexer": "ipython2",
   "version": "2.7.6"
  }
 },
 "nbformat": 4,
 "nbformat_minor": 0
}
